{
  "metadata": {
    "kernelspec": {
      "language": "python",
      "display_name": "Python 3",
      "name": "python3"
    },
    "language_info": {
      "pygments_lexer": "ipython3",
      "nbconvert_exporter": "python",
      "version": "3.6.4",
      "file_extension": ".py",
      "codemirror_mode": {
        "name": "ipython",
        "version": 3
      },
      "name": "python",
      "mimetype": "text/x-python"
    },
    "colab": {
      "provenance": [],
      "include_colab_link": true
    }
  },
  "nbformat_minor": 0,
  "nbformat": 4,
  "cells": [
    {
      "cell_type": "markdown",
      "metadata": {
        "id": "view-in-github",
        "colab_type": "text"
      },
      "source": [
        "<a href=\"https://colab.research.google.com/github/thitran31231024539-glitch/ai-starter/blob/main/Copy_of_%F0%9F%8D%B7_Red_Wine_Quality_~_EDA_%26_Classification.ipynb\" target=\"_parent\"><img src=\"https://colab.research.google.com/assets/colab-badge.svg\" alt=\"Open In Colab\"/></a>"
      ]
    },
    {
      "source": [
        "# IMPORTANT: RUN THIS CELL IN ORDER TO IMPORT YOUR KAGGLE DATA SOURCES,\n",
        "# THEN FEEL FREE TO DELETE THIS CELL.\n",
        "# NOTE: THIS NOTEBOOK ENVIRONMENT DIFFERS FROM KAGGLE'S PYTHON\n",
        "# ENVIRONMENT SO THERE MAY BE MISSING LIBRARIES USED BY YOUR\n",
        "# NOTEBOOK.\n",
        "import kagglehub\n",
        "uciml_red_wine_quality_cortez_et_al_2009_path = kagglehub.dataset_download('uciml/red-wine-quality-cortez-et-al-2009')\n",
        "\n",
        "print('Data source import complete.')\n"
      ],
      "metadata": {
        "id": "MGH0SdQL_P6s"
      },
      "cell_type": "code",
      "outputs": [],
      "execution_count": null
    },
    {
      "cell_type": "markdown",
      "source": [
        "# <h1 style=\"font-family: Sans-Serif; padding: 19px; font-size: 50px; color: #641811; text-align: center; line-height: 1.9;\"><b>WINE QUALITY PREDICTION 🍷</b><br><span style = \"color: #641800; font-size:22px\"> <mark><b>Exploratory data analysis & classification work with machine learning models</b></mark>  </span></h1>\n",
        "<hr>"
      ],
      "metadata": {
        "papermill": {
          "duration": 0.04259,
          "end_time": "2022-06-23T20:16:09.861215",
          "exception": false,
          "start_time": "2022-06-23T20:16:09.818625",
          "status": "completed"
        },
        "tags": [],
        "id": "D7_p9HmF_P62"
      }
    },
    {
      "cell_type": "markdown",
      "source": [
        "![310-3107522_red-wine-full-hd-wallpaper-high-resolution-wine.jpg](attachment:33a5cf0a-acfd-4e6a-b783-0ae19209bea4.jpg)"
      ],
      "metadata": {
        "papermill": {
          "duration": 0.036563,
          "end_time": "2022-06-23T20:16:09.936309",
          "exception": false,
          "start_time": "2022-06-23T20:16:09.899746",
          "status": "completed"
        },
        "tags": [],
        "id": "yVf__GI5_P66"
      }
    },
    {
      "cell_type": "markdown",
      "source": [
        "   <a id='top'></a>\n",
        "<div class=\"list-group\" id=\"list-tab\" role=\"tablist\">\n",
        "<p style=\"background-color:#641811;font-family:sans-serif;color:#FFF9ED;font-size:200%;text-align:center;border-radius:9px 9px;\">TABLE of CONTENTS</p>   \n",
        "    \n",
        "* [1. INTRODUCTION](#1)\n",
        "    \n",
        "* [2. IMPORTING NECESSARY LIBRARIES](#2)\n",
        "    \n",
        "* [3. LOADING DATASET](#3)\n",
        "    \n",
        "* [4. INITIAL INFORMATION ABOUT DATASET](#4)\n",
        "    \n",
        "    * [4.1. Get Initial Information](#4.1)    \n",
        "    * [4.2. Descriptive Statistics of Numeric Variables](#4.2)    \n",
        "    * [4.3. Pandas Profiling](#4.3)    \n",
        "    * [4.4. Check null Values](#4.4)\n",
        "    * [4.5. Rename Column Names](#4.5)\n",
        "    \n",
        "    \n",
        "* [5. DATA VISUALIZATION](#5)\n",
        "    \n",
        "    * [5.1. Histplot](#5.1)    \n",
        "    * [5.2. Pairplot](#5.2)    \n",
        "    * [5.3. Scatterplot](#5.3)    \n",
        "    * [5.4. Smooth Kernel Density with Marginal Histograms](#5.4)\n",
        "    * [5.5. Regplot](#5.5)\n",
        "    * [5.6. Hexagonal Binned Plot](#5.6)\n",
        "    * [5.7. Visualization with Plotly Express](#5.7)\n",
        "    * [5.8. Heatmap and Correlation](#5.8)\n",
        "    \n",
        "    \n",
        "    \n",
        "* [6. DATASET PREPROCESSİNG](#6)\n",
        "    \n",
        "    * [6.1. Look at Dataset](#6.1)    \n",
        "    * [6.2. Divide Quality Range into 2 Parts](#6.2)    \n",
        "    * [6.3. Look at Dataset (with changed 'quality' variable)](#6.3)    \n",
        "    * [6.4. Select Dependent and Independent Variables](#6.4)\n",
        "    * [6.5. Split Dataset into Train and Test Sets](#6.5)\n",
        "    * [6.6. Standardization](#6.6)    \n",
        "\n",
        "    \n",
        "    \n",
        "* [7. BUİLDİNG CLASSİFİCATİON MODELS](#7)\n",
        "    \n",
        "    * [7.1. K-Nearest Neighbors (KNN) Model](#7.1)    \n",
        "    * [7.2. Hyperparameter Tuning for KNN Model](#7.2)    \n",
        "    * [7.3. Get Best Parameters of KNN Model](#7.3)    \n",
        "    * [7.4. Build KNN Model with Best Parameters](#7.4)\n",
        "    * [7.5. Accuracy Score of KNN Model on Test set](#7.5)\n",
        "    * [7.6. Classification Report of KNN Model](#7.6)    \n",
        "    * [7.7. Gradient Boosting Machines (GBM) Model](#7.7)     \n",
        "    * [7.8. Hyperparameter Tuning for GBM Model](#7.8)    \n",
        "    * [7.9. Get Best Parameters of GBM Model](#7.9)    \n",
        "    * [7.10. Build GBM Model with Best Parameters](#7.10)   \n",
        "    * [7.11. Accuracy Score of GBM Model on Test set](#7.11)    \n",
        "    * [7.12. Classification Report of GBM Model](#7.12)    \n",
        "    * [7.13. Light GBM Model](#7.13)    \n",
        "    * [7.14. Hyperparameter Tuning for Light GBM Model](#7.14)    \n",
        "    * [7.15. Get Best Parameters of Light GBM Model](#7.15)   \n",
        "    * [7.16. Build Light GBM Model with Best Parameters](#7.16)    \n",
        "    * [7.17. Accuracy Score of Light GBM Model on Test set](#7.17)    \n",
        "    * [7.18. Classification Report of Light GBM Model](#7.18)    \n",
        "    * [7.19. ROC AUC - Light GBM Model](#7.19)"
      ],
      "metadata": {
        "papermill": {
          "duration": 0.037362,
          "end_time": "2022-06-23T20:16:10.010861",
          "exception": false,
          "start_time": "2022-06-23T20:16:09.973499",
          "status": "completed"
        },
        "tags": [],
        "id": "oH6eWqG8_P67"
      }
    },
    {
      "cell_type": "markdown",
      "source": [
        "<a id=\"1\"></a>\n",
        "\n",
        "## <b>1 <span style='color:#80055D'>|</span> INTRODUCTION 🔎</b>"
      ],
      "metadata": {
        "papermill": {
          "duration": 0.036628,
          "end_time": "2022-06-23T20:16:10.084446",
          "exception": false,
          "start_time": "2022-06-23T20:16:10.047818",
          "status": "completed"
        },
        "tags": [],
        "id": "BXd7xruX_P69"
      }
    },
    {
      "cell_type": "markdown",
      "source": [
        "# <h1 style=\"font-family: Sans-Serif; padding: 19px; font-size: 40px; color: #641811; text-align: center; line-height: 1.9;\"><b>Explanation of the variables of the dataset</b><br><span style = \"color: #CD2DE0; font-size:25px\"></span></h1>\n",
        "<hr>"
      ],
      "metadata": {
        "id": "uyw-sY_I_P6_"
      }
    },
    {
      "cell_type": "markdown",
      "source": [
        "<div style=\"border-radius:10px;\n",
        "            border : black solid;\n",
        "            background-color: #E8D9F3;\n",
        "            font-size:100%;\n",
        "            text-align: left\">\n",
        "\n",
        "<h2 style='; border:0; border-radius: 15px; font-weight: bold; color:black'><center> Explanation of the variables 📜 📖 📚\n",
        "</center></h2>  \n",
        "    \n",
        "* ****fixed acidity:**** most acids involved with wine or fixed or nonvolatile (do not evaporate readily). Acidity is a characteristic determined by the total sum of acids that a sample contains. We can quantify the set of all of them in an undifferentiated way (total acidity) or in a grouped way (fixed acidity and volatile acidity). Fixed acidity corresponds to the set of low volatility organic acids such as malic, lactic, tartaric or citric acids and is inherent to the characteristics of the sample.    \n",
        "* ****volatile acidity:**** the amount of acetic acid in wine, which at too high of levels can lead to an unpleasant, vinegar taste. Volatile acidity corresponds to the set of short chain organic acids that can be extracted from the sample by means of a distillation process: formic acid, acetic acid, propionic acid and butyric acid.    \n",
        "* ****citric acid:**** found in small quantities, citric acid can add 'freshness' and flavor to wines. Citric acid is a colorless weak organic acid. It occurs naturally in citrus fruits. In biochemistry, it is an intermediate in the citric acid cycle, which occurs in the metabolism of all aerobic organisms.    \n",
        "* ****residual sugar:**** the amount of sugar remaining after fermentation stops, it's rare to find wines with less than 1 gram/liter. Residual sugar refers to the sugars left unfermented in a finished wine. It is measured by grams of sugar per litre (g/l). The amount of residual sugar affects a wine's sweetness and, in the EU, the RS level is linked to specific labelling terms.    \n",
        "* ****chlorides:**** the amount of salt in the wine. The higher extraction of chloride during red winemaking is due to the ions extracted from skins during fermentation. Therefore, red juice should have no more than 356mg/L chloride ions so that finished wine does not exceed the maximum legal level of 606mg/L chloride(356mg/L in red juice x 1.7 = 606).    \n",
        "* ****free sulfur dioxide:**** the free form of SO2 exists in equilibrium between molecular SO2 (as a dissolved gas) and bisulfite ion. What is free sulphur dioxide in wine? The free sulfites are those available to react and thus exhibit both germicidal and antioxidant properties. The bound sulfites are those that have reacted (both reversibly and irreversibly) with other molecules within the wine medium. The sum of the free and bound sulfites defines the total sulfite concentration.    \n",
        "* ****total sulfur dioxide:**** amount of free and bound forms of S02; in low concentrations, SO2 is mostly undetectable in wine, but at free SO2. Simply put, Total Sulfur Dioxide (TSO2) is the portion of SO2 that is free in the wine plus the portion that is bound to other chemicals in the wine such as aldehydes, pigments, or sugars.    \n",
        "* ****density:**** the density of water is close to that of water depending on the percent alcohol and sugar content. How do you measure the density of wine? A hydrometer is an instrument used to measure liquid density. It is a sealed glass tube with a weighted bulb at one end, winemakers use this instrument to measure density of juice, fermenting wine and completed wine in relation to pure water. This ratio is called specific gravity (SG).    \n",
        "* ****pH:**** describes how acidic or basic a wine is on a scale from 0 (very acidic) to 14 (very basic); most wines are between 3-4. What is a high pH in wine? Wines which have higher pH values (>3.65) have a series of potential challenges during vinification and aging. First, high pH wines have an increased chance of microbial spoilage. Traditionally, sulfur dioxide (often in the form of potassium metabisulfite) is used to keep wines stable during aging.    \n",
        "* ****sulphates:**** a wine additive which can contribute to sulfur dioxide gas (S02) levels, wich acts as an antimicrobial. Wine sulfites are naturally occurring at low levels in all wines, and are one of the thousands of chemical by-products created during the fermentation process. However, sulfites are also added by the winemaker to preserve and protect the wine from bacteria and yeast-laden invasions. For some, sulfur allergies may be associated with headaches and stuffy sinuses after a glass or two of wine. It is a a wine additive which can contribute to sulfur dioxide gas (S02) levels, wich acts as an antimicrobial.    \n",
        "* ****Alcohol:**** this is the percent alcohol content of the wine    \n",
        "* ****quality:**** output variable (based on sensory data, score between 3 and 8)."
      ],
      "metadata": {
        "papermill": {
          "duration": 0.036314,
          "end_time": "2022-06-23T20:16:10.233076",
          "exception": false,
          "start_time": "2022-06-23T20:16:10.196762",
          "status": "completed"
        },
        "tags": [],
        "id": "Yo3nrwXt_P7A"
      }
    },
    {
      "cell_type": "markdown",
      "source": [
        "<a id=\"2\"></a>\n",
        "\n",
        "## <b>2<span style='color:#80055D'>|</span> IMPORT NECESSARY LIBRARIES 🎬</b>"
      ],
      "metadata": {
        "papermill": {
          "duration": 0.041358,
          "end_time": "2022-06-23T20:16:10.310883",
          "exception": false,
          "start_time": "2022-06-23T20:16:10.269525",
          "status": "completed"
        },
        "tags": [],
        "id": "i4xrQsYv_P7D"
      }
    },
    {
      "cell_type": "code",
      "source": [
        "import pandas as pd  #for data manipulation operations\n",
        "import numpy as np  #for numeric operations on data\n",
        "import seaborn as sns  #for data visualization operations\n",
        "import matplotlib.pyplot as plt  #for data visualization operations\n",
        "from sklearn.preprocessing import LabelEncoder # for encoding\n",
        "from sklearn.preprocessing import MinMaxScaler, RobustScaler, StandardScaler #for standardization\n",
        "import plotly.express as px\n",
        "import plotly.graph_objects as go\n",
        "import plotly.io as pio\n",
        "import scipy.stats as st\n",
        "from termcolor import colored\n",
        "\n",
        "#from markupsafe import escape\n",
        "#!pip install pandas-profiling\n",
        "#import pandas_profiling\n",
        "\n",
        "from sklearn.model_selection import train_test_split, GridSearchCV, cross_val_score\n",
        "from sklearn.metrics import confusion_matrix, accuracy_score, classification_report\n",
        "from sklearn.metrics import accuracy_score\n",
        "from sklearn.metrics import roc_auc_score, roc_curve\n",
        "from sklearn.metrics import plot_confusion_matrix\n",
        "from sklearn import model_selection\n",
        "from sklearn.neighbors import KNeighborsClassifier\n",
        "from sklearn.ensemble import GradientBoostingClassifier\n",
        "#!pip install lightgbm\n",
        "from lightgbm import LGBMClassifier\n",
        "\n",
        "#ignore warnings\n",
        "import warnings\n",
        "warnings.filterwarnings(\"ignore\")\n",
        "\n",
        "#see model parametres\n",
        "from sklearn import set_config\n",
        "set_config(print_changed_only = False)\n",
        "\n",
        "print(colored(\"\\n THE REQUIRED LIBRARIES WERE SUCCESFULLY IMPORTED...\", \"green\"))"
      ],
      "metadata": {
        "papermill": {
          "duration": 2.941163,
          "end_time": "2022-06-23T20:16:13.384155",
          "exception": false,
          "start_time": "2022-06-23T20:16:10.442992",
          "status": "completed"
        },
        "tags": [],
        "execution": {
          "iopub.status.busy": "2022-08-08T10:07:45.803415Z",
          "iopub.execute_input": "2022-08-08T10:07:45.803919Z",
          "iopub.status.idle": "2022-08-08T10:07:48.470521Z",
          "shell.execute_reply.started": "2022-08-08T10:07:45.80388Z",
          "shell.execute_reply": "2022-08-08T10:07:48.469371Z"
        },
        "trusted": true,
        "id": "e1cQgh5s_P7E"
      },
      "execution_count": null,
      "outputs": []
    },
    {
      "cell_type": "markdown",
      "source": [
        "### <mark><b> Some colors used in this notebook were selected from the following color collection: </b></mark>"
      ],
      "metadata": {
        "id": "oCU1xf4y_P7H"
      }
    },
    {
      "cell_type": "code",
      "source": [
        "purple = ['#491D8B', '#6929C4', '#8A3FFC', '#A56EFF',\n",
        "          '#BE95FF', '#CA96EC', '#A163CF', '#29066B',\n",
        "          '#7D3AC1', '#AF4BCE', '#DB4CB2', '#EB548C',\n",
        "          '#EC96E0', '#A2128E', '#E8D9F3', '#641811']\n",
        "\n",
        "sns.palplot(purple, size = 2)"
      ],
      "metadata": {
        "execution": {
          "iopub.status.busy": "2022-08-08T10:07:52.063198Z",
          "iopub.execute_input": "2022-08-08T10:07:52.064036Z",
          "iopub.status.idle": "2022-08-08T10:07:52.249696Z",
          "shell.execute_reply.started": "2022-08-08T10:07:52.063995Z",
          "shell.execute_reply": "2022-08-08T10:07:52.248206Z"
        },
        "trusted": true,
        "id": "F_Om76qE_P7H"
      },
      "execution_count": null,
      "outputs": []
    },
    {
      "cell_type": "markdown",
      "source": [
        "<a id=\"3\"></a>\n",
        "\n",
        "## <b>3<span style='color:#80055D'>|</span>LOAD DATASET 📥</b>"
      ],
      "metadata": {
        "papermill": {
          "duration": 0.037572,
          "end_time": "2022-06-23T20:16:13.459053",
          "exception": false,
          "start_time": "2022-06-23T20:16:13.421481",
          "status": "completed"
        },
        "tags": [],
        "id": "gcfThniE_P7J"
      }
    },
    {
      "cell_type": "code",
      "source": [
        "wine = pd.read_csv(\"../input/red-wine-quality-cortez-et-al-2009/winequality-red.csv\")\n",
        "df = wine.copy()\n",
        "df.head(n = 10).style.background_gradient(cmap = \"Purples_r\")"
      ],
      "metadata": {
        "papermill": {
          "duration": 0.086193,
          "end_time": "2022-06-23T20:16:13.582272",
          "exception": false,
          "start_time": "2022-06-23T20:16:13.496079",
          "status": "completed"
        },
        "tags": [],
        "execution": {
          "iopub.status.busy": "2022-08-08T10:07:55.122864Z",
          "iopub.execute_input": "2022-08-08T10:07:55.123801Z",
          "iopub.status.idle": "2022-08-08T10:07:55.244323Z",
          "shell.execute_reply.started": "2022-08-08T10:07:55.12376Z",
          "shell.execute_reply": "2022-08-08T10:07:55.243335Z"
        },
        "trusted": true,
        "id": "WDcY3egY_P7J"
      },
      "execution_count": null,
      "outputs": []
    },
    {
      "cell_type": "markdown",
      "source": [
        "In the code block above, <mark><b>we load the dataset.</b></mark> Then, just in case, <mark><b>we get a copy of the dataset.</b></mark> Because in some cases it may be necessary <mark><b>to use the original dataset.</b></mark>"
      ],
      "metadata": {
        "id": "MQJZBb-F_P7K"
      }
    },
    {
      "cell_type": "markdown",
      "source": [
        "<a id=\"4\"></a>\n",
        "\n",
        "## <b>4<span style='color:#80055D'>|</span>INITIAL INFORMATION ABOUT DATASET ✅️</b>"
      ],
      "metadata": {
        "papermill": {
          "duration": 0.037259,
          "end_time": "2022-06-23T20:16:13.657479",
          "exception": false,
          "start_time": "2022-06-23T20:16:13.62022",
          "status": "completed"
        },
        "tags": [],
        "id": "hs587W9p_P7L"
      }
    },
    {
      "cell_type": "markdown",
      "source": [
        "<a id=\"4.1\"></a>\n",
        "\n",
        "#### <b>4.1 <span style='color:#80055D'>|</span> Get basic information</b>"
      ],
      "metadata": {
        "papermill": {
          "duration": 0.037265,
          "end_time": "2022-06-23T20:16:13.733569",
          "exception": false,
          "start_time": "2022-06-23T20:16:13.696304",
          "status": "completed"
        },
        "tags": [],
        "id": "P_2kFUsE_P7M"
      }
    },
    {
      "cell_type": "code",
      "source": [
        "df.info()"
      ],
      "metadata": {
        "papermill": {
          "duration": 0.066577,
          "end_time": "2022-06-23T20:16:13.838191",
          "exception": false,
          "start_time": "2022-06-23T20:16:13.771614",
          "status": "completed"
        },
        "tags": [],
        "execution": {
          "iopub.status.busy": "2022-08-08T08:23:28.459382Z",
          "iopub.execute_input": "2022-08-08T08:23:28.45968Z",
          "iopub.status.idle": "2022-08-08T08:23:28.476Z",
          "shell.execute_reply.started": "2022-08-08T08:23:28.459657Z",
          "shell.execute_reply": "2022-08-08T08:23:28.475311Z"
        },
        "trusted": true,
        "id": "hultI1oB_P7M"
      },
      "execution_count": null,
      "outputs": []
    },
    {
      "cell_type": "markdown",
      "source": [
        "<div style=\"border-radius:10px;\n",
        "            border : black solid;\n",
        "            background-color: #E8D9F3;\n",
        "            font-size:110%;\n",
        "            text-align: left\">\n",
        "\n",
        "<h4 style='; border:0; border-radius: 10px; font-weight: bold; color:black'><center> Brief information</center></h4>\n",
        "It turns out that the dataset does not have <mark><b>null values.</b></mark> The dataset consists of <mark><b>1599 rows and 12 columns.</b></mark> The data type of all variables are <mark><b>numeric. </b></mark>"
      ],
      "metadata": {
        "id": "OF6_BRPa_P7M"
      }
    },
    {
      "cell_type": "markdown",
      "source": [
        "<a id=\"4.2\"></a>\n",
        "\n",
        "#### <b>4.2 <span style='color:#80055D'>|</span> Descriptive Statistics of Numeric Variables</b>"
      ],
      "metadata": {
        "papermill": {
          "duration": 0.037342,
          "end_time": "2022-06-23T20:16:13.913185",
          "exception": false,
          "start_time": "2022-06-23T20:16:13.875843",
          "status": "completed"
        },
        "tags": [],
        "id": "YFmo3x_I_P7N"
      }
    },
    {
      "cell_type": "code",
      "source": [
        "df.describe().T.style.background_gradient(cmap = \"magma\")"
      ],
      "metadata": {
        "papermill": {
          "duration": 0.091283,
          "end_time": "2022-06-23T20:16:14.042789",
          "exception": false,
          "start_time": "2022-06-23T20:16:13.951506",
          "status": "completed"
        },
        "tags": [],
        "execution": {
          "iopub.status.busy": "2022-08-08T08:23:36.869198Z",
          "iopub.execute_input": "2022-08-08T08:23:36.869968Z",
          "iopub.status.idle": "2022-08-08T08:23:36.914741Z",
          "shell.execute_reply.started": "2022-08-08T08:23:36.869942Z",
          "shell.execute_reply": "2022-08-08T08:23:36.914037Z"
        },
        "trusted": true,
        "id": "oVmSVJVX_P7P"
      },
      "execution_count": null,
      "outputs": []
    },
    {
      "cell_type": "markdown",
      "source": [
        "<div style=\"border-radius:10px;\n",
        "            border : black solid;\n",
        "            background-color: #E8D9F3;\n",
        "            font-size:110%;\n",
        "            text-align: left\">\n",
        "\n",
        "<h4 style='; border:0; border-radius: 15px; font-weight: bold; color:black'><center>What can we see from this statistic?</center></h4>  \n",
        "    \n",
        "    \n",
        "- The average value of fixed acidity is <mark><b>8.31</b></mark>, the highest value is <mark><b>15.9</b></mark>\n",
        "- The average value of volatile acidity is <mark><b>0.52</b></mark>, the highest value is <mark><b>1.58</b></mark>\n",
        "- The average value of citric acid is <mark><b>0.27</b></mark>, the highest value is <mark><b>1</b></mark>\n",
        "- The average value of residual sugar is <mark><b>2.53,</b></mark> the highest value is <mark><b>15.5</b></mark>\n",
        "- The average value of chlorides is <mark><b>0.08</b></mark>, the highest value is <mark><b>0.61</b></mark>\n",
        "- The average value of free sulfur dioxide is <mark><b>15.87</b></mark>, the highest value is <mark><b>72</b></mark>\n",
        "- The average value of total sulfur dioxide is <mark><b>46.46</b></mark>, the highest value is <mark><b>289</b></mark>\n",
        "- The average value of density is <mark><b>0.99</b></mark>, the highest value is <mark><b>1</b></mark>\n",
        "- The average value of pH is <mark><b>3.31</b></mark>, the highest value is <mark><b>4.01</b></mark>\n",
        "- The average value of sulphates is <mark><b>0.65</b></mark>, the highest value is <mark><b>2</b></mark>\n",
        "- The average value of alcohol is <mark><b>10.42</b></mark>, the highest value is <mark><b>14.90</b></mark>\n",
        "- The average value of quality is <mark><b>5.63</b></mark>, the highest value is <mark><b>8</b></mark>"
      ],
      "metadata": {
        "id": "agW2Vmln_P7Q"
      }
    },
    {
      "cell_type": "markdown",
      "source": [
        "<a id=\"4.3\"></a>\n",
        "\n",
        "#### <b>4.3 <span style='color: #80055D'>|</span> Pandas Profiling</b>"
      ],
      "metadata": {
        "papermill": {
          "duration": 0.037839,
          "end_time": "2022-06-23T20:16:14.119845",
          "exception": false,
          "start_time": "2022-06-23T20:16:14.082006",
          "status": "completed"
        },
        "tags": [],
        "id": "Pr537w14_P7R"
      }
    },
    {
      "cell_type": "code",
      "source": [
        "#profiling = pandas_profiling.ProfileReport(df)\n",
        "#profiling"
      ],
      "metadata": {
        "papermill": {
          "duration": 0.045342,
          "end_time": "2022-06-23T20:16:14.203197",
          "exception": false,
          "start_time": "2022-06-23T20:16:14.157855",
          "status": "completed"
        },
        "tags": [],
        "execution": {
          "iopub.status.busy": "2022-08-08T08:23:50.198491Z",
          "iopub.execute_input": "2022-08-08T08:23:50.199772Z",
          "iopub.status.idle": "2022-08-08T08:23:50.202945Z",
          "shell.execute_reply.started": "2022-08-08T08:23:50.199698Z",
          "shell.execute_reply": "2022-08-08T08:23:50.202319Z"
        },
        "trusted": true,
        "id": "0IjvBdfZ_P7R"
      },
      "execution_count": null,
      "outputs": []
    },
    {
      "cell_type": "markdown",
      "source": [
        "<a id=\"4.4\"></a>\n",
        "\n",
        "#### <b>4.4 <span style='color:#80055D'>|</span> Check null Values</b>"
      ],
      "metadata": {
        "papermill": {
          "duration": 0.039859,
          "end_time": "2022-06-23T20:16:14.280767",
          "exception": false,
          "start_time": "2022-06-23T20:16:14.240908",
          "status": "completed"
        },
        "tags": [],
        "id": "2jlv9cD__P7S"
      }
    },
    {
      "cell_type": "code",
      "source": [
        "print(\"Totally there are {} null values in the dataset\".format(df.isnull().sum().sum()))"
      ],
      "metadata": {
        "papermill": {
          "duration": 0.049793,
          "end_time": "2022-06-23T20:16:14.371177",
          "exception": false,
          "start_time": "2022-06-23T20:16:14.321384",
          "status": "completed"
        },
        "tags": [],
        "execution": {
          "iopub.status.busy": "2022-08-08T08:24:44.354909Z",
          "iopub.execute_input": "2022-08-08T08:24:44.355263Z",
          "iopub.status.idle": "2022-08-08T08:24:44.362267Z",
          "shell.execute_reply.started": "2022-08-08T08:24:44.355239Z",
          "shell.execute_reply": "2022-08-08T08:24:44.361522Z"
        },
        "trusted": true,
        "id": "Tx86fD9P_P7T"
      },
      "execution_count": null,
      "outputs": []
    },
    {
      "cell_type": "markdown",
      "source": [
        "<div style=\"border-radius:10px;\n",
        "            border : black solid;\n",
        "            background-color: #E8D9F3;\n",
        "            font-size:110%;\n",
        "            text-align: left\">\n",
        "\n",
        "<h4 style='; border:0; border-radius: 15px; font-weight: bold; color:black'><center>Total null values</center></h4>  \n",
        "    \n",
        "There are <mark><b>not any null values</b></mark> in the dataset. <mark><b>Total \"null\" values</b></mark> in the dataset is <mark><b>zero</b></mark>"
      ],
      "metadata": {
        "id": "_JuyjAEa_P7T"
      }
    },
    {
      "cell_type": "markdown",
      "source": [
        "<a id=\"4.5\"></a>\n",
        "\n",
        "#### <b>4.5 <span style='color:#80055D'>|</span> Rename Column Names</b>"
      ],
      "metadata": {
        "papermill": {
          "duration": 0.038313,
          "end_time": "2022-06-23T20:16:14.447247",
          "exception": false,
          "start_time": "2022-06-23T20:16:14.408934",
          "status": "completed"
        },
        "tags": [],
        "id": "v49Ek_UR_P7U"
      }
    },
    {
      "cell_type": "code",
      "source": [
        "df.rename(columns = {\"fixed acidity\": \"fixed_acidity\", \"volatile acidity\": \"volatile_acidity\",\n",
        "                    \"citric acid\": \"citric_acid\", \"residual sugar\": \"residual_sugar\",\n",
        "                    \"chlorides\": \"chlorides\", \"free sulfur dioxide\": \"free_sulfur_dioxide\",\n",
        "                    \"total sulfur dioxide\": \"total_sulfur_dioxide\"}, inplace = True)"
      ],
      "metadata": {
        "papermill": {
          "duration": 0.048559,
          "end_time": "2022-06-23T20:16:14.533821",
          "exception": false,
          "start_time": "2022-06-23T20:16:14.485262",
          "status": "completed"
        },
        "tags": [],
        "execution": {
          "iopub.status.busy": "2022-08-08T10:08:03.433341Z",
          "iopub.execute_input": "2022-08-08T10:08:03.434508Z",
          "iopub.status.idle": "2022-08-08T10:08:03.440159Z",
          "shell.execute_reply.started": "2022-08-08T10:08:03.434428Z",
          "shell.execute_reply": "2022-08-08T10:08:03.439326Z"
        },
        "trusted": true,
        "id": "rL3NxqEJ_P7V"
      },
      "execution_count": null,
      "outputs": []
    },
    {
      "cell_type": "markdown",
      "source": [
        "<a id=\"5\"></a>\n",
        "\n",
        "## <b>5<span style='color:#80055D'>|</span>EDA 📊 and DATA VISUALIZATION 📉</b>"
      ],
      "metadata": {
        "papermill": {
          "duration": 0.039258,
          "end_time": "2022-06-23T20:16:14.61313",
          "exception": false,
          "start_time": "2022-06-23T20:16:14.573872",
          "status": "completed"
        },
        "tags": [],
        "id": "mOiOs6Gl_P7X"
      }
    },
    {
      "cell_type": "markdown",
      "source": [
        "# <h1 style=\"font-family: Sans-Serif; padding: 19px; font-size: 40px; color: #641811; text-align: center; line-height: 1.9;\"><b>Exploratory data analysis 📉 & data visualization 📊</b><br><span style = \"color: #CD2DE0; font-size:25px\"></span></h1>\n",
        "<hr>"
      ],
      "metadata": {
        "id": "Stm23QDJ_P7X"
      }
    },
    {
      "cell_type": "markdown",
      "source": [
        "<a id=\"5.1\"></a>\n",
        "\n",
        "#### <b>5.1 <span style='color:#80055D'>|</span> Histplot</b>"
      ],
      "metadata": {
        "papermill": {
          "duration": 0.037248,
          "end_time": "2022-06-23T20:16:14.763944",
          "exception": false,
          "start_time": "2022-06-23T20:16:14.726696",
          "status": "completed"
        },
        "tags": [],
        "id": "qUpz2hCg_P7Y"
      }
    },
    {
      "cell_type": "code",
      "source": [
        "fig, axes = plt.subplots(1, 3, figsize = (40, 10))\n",
        "\n",
        "sns.histplot(ax = axes[0], x = df[\"fixed_acidity\"],\n",
        "             bins = 10,\n",
        "             kde = True,\n",
        "             cbar = True,\n",
        "             color = \"#CA96EC\").set(title = \"Distribution of 'fixed_acidity'\");\n",
        "\n",
        "sns.histplot(ax = axes[1], x = df[\"volatile_acidity\"],\n",
        "             bins = 10,\n",
        "             cbar = True,\n",
        "             kde = True,\n",
        "             color = \"#A163CF\").set(title = \"Distribution of 'volatile_acidity'\");\n",
        "\n",
        "sns.histplot(ax = axes[2], x = df[\"citric_acid\"],\n",
        "             bins = 10,\n",
        "             kde = True,\n",
        "             cbar = True,\n",
        "             color = \"#29066B\").set(title = \"Distribution of 'citric_acid'\");"
      ],
      "metadata": {
        "papermill": {
          "duration": 0.833345,
          "end_time": "2022-06-23T20:16:15.635539",
          "exception": false,
          "start_time": "2022-06-23T20:16:14.802194",
          "status": "completed"
        },
        "tags": [],
        "execution": {
          "iopub.status.busy": "2022-08-08T10:08:13.084144Z",
          "iopub.execute_input": "2022-08-08T10:08:13.084594Z",
          "iopub.status.idle": "2022-08-08T10:08:13.985788Z",
          "shell.execute_reply.started": "2022-08-08T10:08:13.084559Z",
          "shell.execute_reply": "2022-08-08T10:08:13.984748Z"
        },
        "trusted": true,
        "id": "qM2zfr7c_P7a"
      },
      "execution_count": null,
      "outputs": []
    },
    {
      "cell_type": "markdown",
      "source": [
        "<div style=\"border-radius:10px;\n",
        "            border : black solid;\n",
        "            background-color: #E8D9F3;\n",
        "            font-size:110%;\n",
        "            text-align: left\">\n",
        "\n",
        "<h4 style='; border:0; border-radius: 15px; font-weight: bold; color:black'><center>Distribution</center></h4>  \n",
        "\n",
        "Analyzing the graphs here, it turns out that the values of the variable <mark><b>'fixed_acidity'</b></mark> are relatively <mark><b>normally distributed (but a bit left skewed).</b></mark> But there are two peaks in the distributions of other <mark><b>'volatile_acidity'</b></mark> and <mark><b>'citric_acid'</b></mark> variables."
      ],
      "metadata": {
        "id": "vz11zmXZ_P7b"
      }
    },
    {
      "cell_type": "code",
      "source": [
        "fig, axes = plt.subplots(1, 3, figsize=(40, 10))\n",
        "\n",
        "sns.histplot(ax = axes[0], x = df[\"alcohol\"],\n",
        "             bins = 10,\n",
        "             kde = True,\n",
        "             cbar = True,\n",
        "             color = \"#641811\").set(title = \"Distribution of 'alcohol'\");\n",
        "\n",
        "sns.histplot(ax = axes[1], x = df[\"residual_sugar\"],\n",
        "             bins = 10,\n",
        "             kde = True,\n",
        "             cbar = True,\n",
        "             color = \"#EB548C\").set(title = \"Distribution of 'residual_sugar'\");\n",
        "\n",
        "sns.histplot(ax = axes[2], x = df[\"chlorides\"],\n",
        "             bins = 10,\n",
        "             kde = True,\n",
        "             cbar = True,\n",
        "             color = \"#EC96E0\").set(title = \"Distribution of 'chlorides'\");"
      ],
      "metadata": {
        "papermill": {
          "duration": 0.651489,
          "end_time": "2022-06-23T20:16:16.326879",
          "exception": false,
          "start_time": "2022-06-23T20:16:15.67539",
          "status": "completed"
        },
        "tags": [],
        "execution": {
          "iopub.status.busy": "2022-08-08T10:08:18.587357Z",
          "iopub.execute_input": "2022-08-08T10:08:18.588677Z",
          "iopub.status.idle": "2022-08-08T10:08:19.341212Z",
          "shell.execute_reply.started": "2022-08-08T10:08:18.588606Z",
          "shell.execute_reply": "2022-08-08T10:08:19.339942Z"
        },
        "trusted": true,
        "id": "iUW-pow4_P7c"
      },
      "execution_count": null,
      "outputs": []
    },
    {
      "cell_type": "markdown",
      "source": [
        "<div style=\"border-radius:10px;\n",
        "            border : black solid;\n",
        "            background-color: #E8D9F3;\n",
        "            font-size:110%;\n",
        "            text-align: left\">\n",
        "\n",
        "<h4 style='; border:0; border-radius: 15px; font-weight: bold; color:black'><center>Distribution</center></h4>  \n",
        "\n",
        "Analyzing the graphs here, it turns out that the distributions of these variables <mark><b>are not normal</b></mark>"
      ],
      "metadata": {
        "id": "gVbz31AN_P7c"
      }
    },
    {
      "cell_type": "markdown",
      "source": [
        "<a id=\"5.2\"></a>\n",
        "\n",
        "#### <b>5.2 <span style='color:#80055D'>|</span>Pairplot</b>"
      ],
      "metadata": {
        "papermill": {
          "duration": 0.041137,
          "end_time": "2022-06-23T20:16:16.41074",
          "exception": false,
          "start_time": "2022-06-23T20:16:16.369603",
          "status": "completed"
        },
        "tags": [],
        "id": "H9MGFP72_P7d"
      }
    },
    {
      "cell_type": "code",
      "source": [
        "sns.pairplot(df, diag_kind = \"hist\", hue = \"quality\", height = 3, aspect = 1.2, corner = True);"
      ],
      "metadata": {
        "papermill": {
          "duration": 17.505282,
          "end_time": "2022-06-23T20:16:33.956342",
          "exception": false,
          "start_time": "2022-06-23T20:16:16.45106",
          "status": "completed"
        },
        "tags": [],
        "execution": {
          "iopub.status.busy": "2022-08-08T08:40:26.794607Z",
          "iopub.execute_input": "2022-08-08T08:40:26.794951Z",
          "iopub.status.idle": "2022-08-08T08:40:57.10453Z",
          "shell.execute_reply.started": "2022-08-08T08:40:26.794928Z",
          "shell.execute_reply": "2022-08-08T08:40:57.103208Z"
        },
        "trusted": true,
        "id": "WADTq49Q_P7e"
      },
      "execution_count": null,
      "outputs": []
    },
    {
      "cell_type": "markdown",
      "source": [
        "<div style=\"border-radius:10px;\n",
        "            border : black solid;\n",
        "            background-color: #E8D9F3;\n",
        "            font-size:110%;\n",
        "            text-align: left\">\n",
        "\n",
        "<h4 style='; border:0; border-radius: 15px; font-weight: bold; color:black'><center>Multicollinearity detected !</center></h4>  \n",
        "    \n",
        "We see here that there is <mark><b>correlation between some variables.</b></mark> And this is what we don't want. This problem is called <mark><b>'multicollinearity'</b></mark>"
      ],
      "metadata": {
        "id": "woVlF__k_P7e"
      }
    },
    {
      "cell_type": "markdown",
      "source": [
        "<a id=\"5.3\"></a>\n",
        "\n",
        "#### <b>5.3 <span style='color:#80055D'>|</span>Scatterplot</b>"
      ],
      "metadata": {
        "papermill": {
          "duration": 0.058091,
          "end_time": "2022-06-23T20:16:34.073358",
          "exception": false,
          "start_time": "2022-06-23T20:16:34.015267",
          "status": "completed"
        },
        "tags": [],
        "id": "C5IbC6_V_P7e"
      }
    },
    {
      "cell_type": "code",
      "source": [
        "fig, axes = plt.subplots(2, 2, figsize=(15, 10))\n",
        "axes = axes.flatten()\n",
        "\n",
        "sns.scatterplot(ax = axes[0],\n",
        "                x = \"residual_sugar\",\n",
        "                y = \"quality\", hue = \"quality\",\n",
        "                data = df).set(title = \"Relationship between 'residual_sugar' and 'quality'\");\n",
        "\n",
        "sns.scatterplot(ax = axes[1],\n",
        "                x = \"alcohol\",\n",
        "                y = \"quality\", hue = \"quality\",\n",
        "                data = df).set(title = \"Relationship between 'alcohol' and 'quality'\");\n",
        "\n",
        "sns.scatterplot(ax = axes[2],\n",
        "                x = \"pH\",\n",
        "                y = \"quality\", hue = \"quality\",\n",
        "                data = df).set(title = \"Relationship between 'pH' and 'quality'\");\n",
        "\n",
        "sns.scatterplot(ax = axes[3],\n",
        "                x = \"density\",\n",
        "                y = \"quality\", hue = \"quality\",\n",
        "                data = df).set(title = \"Relationship between 'density' and 'quality'\");"
      ],
      "metadata": {
        "papermill": {
          "duration": 0.71483,
          "end_time": "2022-06-23T20:16:34.844819",
          "exception": false,
          "start_time": "2022-06-23T20:16:34.129989",
          "status": "completed"
        },
        "tags": [],
        "execution": {
          "iopub.status.busy": "2022-08-08T10:08:31.616505Z",
          "iopub.execute_input": "2022-08-08T10:08:31.617609Z",
          "iopub.status.idle": "2022-08-08T10:08:33.087482Z",
          "shell.execute_reply.started": "2022-08-08T10:08:31.617566Z",
          "shell.execute_reply": "2022-08-08T10:08:33.086332Z"
        },
        "trusted": true,
        "id": "NssD7RIV_P7t"
      },
      "execution_count": null,
      "outputs": []
    },
    {
      "cell_type": "code",
      "source": [
        "sns.scatterplot(x = \"residual_sugar\",\n",
        "                y = \"pH\",\n",
        "                hue = \"quality\",\n",
        "                data = df).set(title = \"Relationship between 'residual_sugar' and 'pH'\");"
      ],
      "metadata": {
        "papermill": {
          "duration": 0.470936,
          "end_time": "2022-06-23T20:16:35.376065",
          "exception": false,
          "start_time": "2022-06-23T20:16:34.905129",
          "status": "completed"
        },
        "tags": [],
        "execution": {
          "iopub.status.busy": "2022-08-08T10:08:42.48614Z",
          "iopub.execute_input": "2022-08-08T10:08:42.486709Z",
          "iopub.status.idle": "2022-08-08T10:08:42.84748Z",
          "shell.execute_reply.started": "2022-08-08T10:08:42.48666Z",
          "shell.execute_reply": "2022-08-08T10:08:42.846376Z"
        },
        "trusted": true,
        "id": "tKXRGo9h_P7u"
      },
      "execution_count": null,
      "outputs": []
    },
    {
      "cell_type": "markdown",
      "source": [
        "As it can be seen <mark><b>there is not correlation between 'residual_sugar' and 'pH' variables</b></mark>"
      ],
      "metadata": {
        "id": "v2516ATA_P7u"
      }
    },
    {
      "cell_type": "code",
      "source": [
        "sns.scatterplot(x = \"alcohol\",\n",
        "                y = \"pH\",\n",
        "                hue = \"quality\",\n",
        "                palette = \"magma\",\n",
        "                data = df).set(title = \"Relationship between 'alcohol' and 'pH'\");"
      ],
      "metadata": {
        "papermill": {
          "duration": 0.850846,
          "end_time": "2022-06-23T20:16:36.28594",
          "exception": false,
          "start_time": "2022-06-23T20:16:35.435094",
          "status": "completed"
        },
        "tags": [],
        "execution": {
          "iopub.status.busy": "2022-08-08T10:08:59.69767Z",
          "iopub.execute_input": "2022-08-08T10:08:59.698883Z",
          "iopub.status.idle": "2022-08-08T10:09:00.124886Z",
          "shell.execute_reply.started": "2022-08-08T10:08:59.698833Z",
          "shell.execute_reply": "2022-08-08T10:09:00.123913Z"
        },
        "trusted": true,
        "id": "curh-0IA_P7v"
      },
      "execution_count": null,
      "outputs": []
    },
    {
      "cell_type": "markdown",
      "source": [
        "As it can be seen <mark><b>there is not correlation between 'alcohol' and 'pH' variables</b></mark>"
      ],
      "metadata": {
        "id": "Ge75WS8l_P7w"
      }
    },
    {
      "cell_type": "code",
      "source": [
        "fig, axes = plt.subplots(nrows = 4, ncols = 3, figsize = (20, 20))\n",
        "\n",
        "colors = ['#491D8B', '#6929C4', '#8A3FFC', '#A56EFF',\n",
        "          '#7D3AC1', '#AF4BCE', '#DB4CB2', '#EB548C',\n",
        "          '#EC96E0', '#A2128E', '#E8D9F3', '#641811']\n",
        "\n",
        "for index, column in enumerate(df.columns):\n",
        "    ax = axes.flatten()[index]\n",
        "    ax.hist(df[column], color = colors[index], label = column)\n",
        "    ax.legend(loc = \"best\")\n",
        "plt.suptitle(\"Histograms\", size = 18)\n",
        "\n",
        "plt.show()"
      ],
      "metadata": {
        "papermill": {
          "duration": 1.859851,
          "end_time": "2022-06-23T20:16:38.209241",
          "exception": false,
          "start_time": "2022-06-23T20:16:36.34939",
          "status": "completed"
        },
        "tags": [],
        "execution": {
          "iopub.status.busy": "2022-08-08T10:14:19.383517Z",
          "iopub.execute_input": "2022-08-08T10:14:19.384554Z",
          "iopub.status.idle": "2022-08-08T10:14:21.252603Z",
          "shell.execute_reply.started": "2022-08-08T10:14:19.384506Z",
          "shell.execute_reply": "2022-08-08T10:14:21.251639Z"
        },
        "trusted": true,
        "id": "-vSilVVI_P7x"
      },
      "execution_count": null,
      "outputs": []
    },
    {
      "cell_type": "markdown",
      "source": [
        "### What do we see when we observe <mark><b>the histograms</b></mark> above? 🤔\n",
        "\n",
        "Here we see <mark><b>the distributions of values</b></mark> of all variables. As it can be seen from the charts, the values of <mark><b>'pH'</b></mark> and <mark><b>\"density\"</b></mark> variables are relatively <mark><b>normally distributed.</b></mark>\n",
        "\n",
        "1. Most of the values ​​of <mark><b> the \"fixed_acidity\" variable</b></mark> are in the range of <mark><b>7 - 8;</b></mark>\n",
        "\n",
        "2. Most of the values ​​of <mark><b> the \"volatile_acidity\" variable</b></mark> are in the range of <mark><b>0.4 - 0.7;</b></mark>\n",
        "\n",
        "3. Most values ​​of <mark><b>the \"citric_acid\" variable</b></mark> are in the range of <mark><b>0.0 - 0.1;</b></mark>\n",
        "\n",
        "4. Most of the values ​​of <mark><b> the \"residual_sugar\" variable</b></mark> are in the range of <mark><b>1 - 2.5;</b></mark>\n",
        "\n",
        "5. Most of the values ​​of <mark><b>the \"chlorides\" variable</b></mark> are in the range of <mark><b>0.085 - 0.15;</b></mark>\n",
        "\n",
        "6. Most values ​​of <mark><b>the \"free_sulfur_dioxide\" variable</b></mark> are in the range <mark><b>0 - 15;</b></mark>\n",
        "\n",
        "7. Most values ​​of <mark><b>the \"total_sulfur_dioxide\" variable</b></mark> are in the range <mark><b>0 - 30;</b></mark>\n",
        "\n",
        "8. Most of the values ​​of <mark><b>the \"density\" variable</b></mark> are in the range of <mark><b>0.996 - 0.998;</b></mark>\n",
        "\n",
        "9. Most of the values ​​of <mark><b>the \"pH\" variable</b></mark> are in the range of <mark><b>3.2 - 3.4;</b></mark>\n",
        "\n",
        "10. Most of the values ​​of <mark><b>the \"sulphates\" variable</b></mark> are in the range of <mark><b>0.50 - 0.75;</b></mark>\n",
        "\n",
        "11. Most of the values ​​of <mark><b>the \"alcohol\" variable</b></mark> are in the range of <mark><b>9 - 10;</b></mark>\n",
        "\n",
        "12. Most values ​​of <mark><b>the \"quality\" variable</b></mark> are <mark><b>5 and 6.</b></mark>"
      ],
      "metadata": {
        "id": "RC2irBl-_P7x"
      }
    },
    {
      "cell_type": "markdown",
      "source": [
        "<a id=\"5.4\"></a>\n",
        "\n",
        "#### <b>5.4 <span style='color:#80055D'>|</span>Smooth Kernel Density with Marginal Histograms</b>"
      ],
      "metadata": {
        "papermill": {
          "duration": 0.060308,
          "end_time": "2022-06-23T20:16:38.668526",
          "exception": false,
          "start_time": "2022-06-23T20:16:38.608218",
          "status": "completed"
        },
        "tags": [],
        "id": "iWWd-4gG_P7y"
      }
    },
    {
      "cell_type": "markdown",
      "source": [
        "In <mark><b>the density graphs</b></mark> below, we will observe the <mark><b>relationships between some variables.</b></mark> In addition, we will also use <mark><b>marginal histograms.</b></mark>"
      ],
      "metadata": {
        "id": "_-j7DfhR_P7y"
      }
    },
    {
      "cell_type": "code",
      "source": [
        "sns.set_theme(style = \"whitegrid\")\n",
        "g = sns.JointGrid(data = df, size = 7, x = \"total_sulfur_dioxide\", y = \"quality\", space = 0.5)\n",
        "g.plot_joint(sns.kdeplot, fill = True, thresh = 0, cmap = \"Purples_r\")\n",
        "g.plot_marginals(sns.histplot, color = \"#491D8B\", alpha = 1, bins = 25);"
      ],
      "metadata": {
        "papermill": {
          "duration": 1.626672,
          "end_time": "2022-06-23T20:16:40.355787",
          "exception": false,
          "start_time": "2022-06-23T20:16:38.729115",
          "status": "completed"
        },
        "tags": [],
        "execution": {
          "iopub.status.busy": "2022-08-08T10:29:09.759538Z",
          "iopub.execute_input": "2022-08-08T10:29:09.760068Z",
          "iopub.status.idle": "2022-08-08T10:29:11.440186Z",
          "shell.execute_reply.started": "2022-08-08T10:29:09.76003Z",
          "shell.execute_reply": "2022-08-08T10:29:11.438668Z"
        },
        "trusted": true,
        "id": "VUskLWPp_P7z"
      },
      "execution_count": null,
      "outputs": []
    },
    {
      "cell_type": "code",
      "source": [
        "g = sns.JointGrid(data = df, x = \"pH\", y = \"quality\", size = 7, space = 0.2)\n",
        "g.plot_joint(sns.kdeplot, fill = True, thresh = 0, cmap = \"magma\")\n",
        "g.plot_marginals(sns.histplot, color = \"#491D8B\", alpha = 1, bins = 25);"
      ],
      "metadata": {
        "papermill": {
          "duration": 1.60546,
          "end_time": "2022-06-23T20:16:42.026045",
          "exception": false,
          "start_time": "2022-06-23T20:16:40.420585",
          "status": "completed"
        },
        "tags": [],
        "execution": {
          "iopub.status.busy": "2022-08-08T10:30:01.782037Z",
          "iopub.execute_input": "2022-08-08T10:30:01.782538Z",
          "iopub.status.idle": "2022-08-08T10:30:03.42132Z",
          "shell.execute_reply.started": "2022-08-08T10:30:01.782495Z",
          "shell.execute_reply": "2022-08-08T10:30:03.420121Z"
        },
        "trusted": true,
        "id": "PuSki57Z_P70"
      },
      "execution_count": null,
      "outputs": []
    },
    {
      "cell_type": "code",
      "source": [
        "g = sns.JointGrid(data = df, x = \"volatile_acidity\", y = \"density\", size = 7, space = 0.5)\n",
        "g.plot_joint(sns.kdeplot, fill = True, thresh = 0, cmap = \"copper\")\n",
        "g.plot_marginals(sns.histplot, color = \"#FFA500\", alpha = 1, bins = 25);"
      ],
      "metadata": {
        "papermill": {
          "duration": 1.835334,
          "end_time": "2022-06-23T20:16:43.922842",
          "exception": false,
          "start_time": "2022-06-23T20:16:42.087508",
          "status": "completed"
        },
        "tags": [],
        "execution": {
          "iopub.status.busy": "2022-08-08T10:31:24.777498Z",
          "iopub.execute_input": "2022-08-08T10:31:24.778493Z",
          "iopub.status.idle": "2022-08-08T10:31:26.315951Z",
          "shell.execute_reply.started": "2022-08-08T10:31:24.778438Z",
          "shell.execute_reply": "2022-08-08T10:31:26.314748Z"
        },
        "trusted": true,
        "id": "nq2k1Eoq_P70"
      },
      "execution_count": null,
      "outputs": []
    },
    {
      "cell_type": "markdown",
      "source": [
        "<a id=\"5.5\"></a>\n",
        "\n",
        "#### <b>5.5 <span style='color:#80055D'>|</span>Regplot</b>"
      ],
      "metadata": {
        "papermill": {
          "duration": 0.061301,
          "end_time": "2022-06-23T20:16:44.045861",
          "exception": false,
          "start_time": "2022-06-23T20:16:43.98456",
          "status": "completed"
        },
        "tags": [],
        "id": "nBnE6QGa_P72"
      }
    },
    {
      "cell_type": "code",
      "source": [
        "fig, axes = plt.subplots(2, 2, figsize = (15, 10))\n",
        "axes = axes.flatten()\n",
        "\n",
        "sns.regplot(ax = axes[0], x = \"fixed_acidity\", y = \"alcohol\", data = df, color = \"#A2128E\");\n",
        "sns.regplot(ax = axes[1], x = \"volatile_acidity\", y = \"alcohol\", data = df, color = \"#A56EFF\");\n",
        "sns.regplot(ax = axes[2], x = \"citric_acid\", y = \"alcohol\", data = df, color = \"#8A3FFC\");\n",
        "sns.regplot(ax = axes[3], x = \"total_sulfur_dioxide\", y = \"alcohol\", data = df, color = \"#6929C4\");"
      ],
      "metadata": {
        "papermill": {
          "duration": 1.587689,
          "end_time": "2022-06-23T20:16:45.69547",
          "exception": false,
          "start_time": "2022-06-23T20:16:44.107781",
          "status": "completed"
        },
        "tags": [],
        "execution": {
          "iopub.status.busy": "2022-08-08T10:34:22.210324Z",
          "iopub.execute_input": "2022-08-08T10:34:22.210782Z",
          "iopub.status.idle": "2022-08-08T10:34:23.821542Z",
          "shell.execute_reply.started": "2022-08-08T10:34:22.210747Z",
          "shell.execute_reply": "2022-08-08T10:34:23.820345Z"
        },
        "trusted": true,
        "id": "Icnb1Bq__P73"
      },
      "execution_count": null,
      "outputs": []
    },
    {
      "cell_type": "markdown",
      "source": [
        "**Attention** to the <mark><b>negative linear relationships</b></mark> between <mark><b>the \"alcohol\" - \"volatile acidity\"</b></mark> and <mark><b>\"alcohol\" - \"total_sulfur_dioxide\"</b></mark> variables."
      ],
      "metadata": {
        "id": "S7W644ao_P74"
      }
    },
    {
      "cell_type": "markdown",
      "source": [
        "<a id=\"5.6\"></a>\n",
        "\n",
        "#### <b>5.6 <span style='color:#80055D'>|</span>Hexagonal Binned Plot</b>\n",
        "\n",
        "\n",
        "<mark><b>hexbin is a 2D histogram plot, in which the bins are hexagons and the color represents the number of data points within each bin.</b></mark>"
      ],
      "metadata": {
        "papermill": {
          "duration": 0.064413,
          "end_time": "2022-06-23T20:16:45.826688",
          "exception": false,
          "start_time": "2022-06-23T20:16:45.762275",
          "status": "completed"
        },
        "tags": [],
        "id": "zv68557a_P75"
      }
    },
    {
      "cell_type": "code",
      "source": [
        "fig, ([ax0, ax1], [ax2, ax3]) = plt.subplots(nrows = 2, ncols = 2, figsize = (17, 10))\n",
        "\n",
        "hb = ax0.hexbin(df[\"sulphates\"], df[\"quality\"], gridsize = 30, cmap = 'Purples_r')\n",
        "ax0.set_title(\"Hexagon binning\")\n",
        "cb = fig.colorbar(hb, ax = ax0, label = 'counts')\n",
        "\n",
        "\n",
        "hb = ax1.hexbin(df[\"pH\"], df[\"quality\"], gridsize = 30, bins = 'log', cmap = 'inferno')\n",
        "ax1.set_title(\"With a log color scale\")\n",
        "cb = fig.colorbar(hb, ax = ax1, label = 'log10(N)')\n",
        "\n",
        "\n",
        "hb = ax2.hexbin(df[\"density\"], df[\"quality\"], gridsize = 20, cmap = 'gist_heat')\n",
        "ax2.set_title(\"Hexagon binning\")\n",
        "cb = fig.colorbar(hb, ax = ax2, label = 'counts')\n",
        "\n",
        "hb = ax3.hexbin(df[\"free_sulfur_dioxide\"], df[\"quality\"], gridsize = 20, bins = 'log',\n",
        "                cmap = 'prism')\n",
        "ax3.set_title(\"With a log color scale\")\n",
        "cb = fig.colorbar(hb, ax = ax3, label = 'log10(N)')\n",
        "\n",
        "plt.show()"
      ],
      "metadata": {
        "papermill": {
          "duration": 1.699736,
          "end_time": "2022-06-23T20:16:47.590581",
          "exception": false,
          "start_time": "2022-06-23T20:16:45.890845",
          "status": "completed"
        },
        "tags": [],
        "execution": {
          "iopub.status.busy": "2022-08-08T10:38:58.16371Z",
          "iopub.execute_input": "2022-08-08T10:38:58.164219Z",
          "iopub.status.idle": "2022-08-08T10:38:59.662566Z",
          "shell.execute_reply.started": "2022-08-08T10:38:58.164181Z",
          "shell.execute_reply": "2022-08-08T10:38:59.661115Z"
        },
        "trusted": true,
        "id": "fxMoGIZC_P75"
      },
      "execution_count": null,
      "outputs": []
    },
    {
      "cell_type": "markdown",
      "source": [
        "<a id=\"5.7\"></a>\n",
        "\n",
        "#### <b>5.7 <span style='color:#80055D'>|</span>Visualization with Plotly Express</b>"
      ],
      "metadata": {
        "papermill": {
          "duration": 0.066231,
          "end_time": "2022-06-23T20:16:47.727134",
          "exception": false,
          "start_time": "2022-06-23T20:16:47.660903",
          "status": "completed"
        },
        "tags": [],
        "id": "VBcb2jRx_P77"
      }
    },
    {
      "cell_type": "markdown",
      "source": [
        "### Overview 📜\n",
        "\n",
        "Reference: https://plotly.com/python/plotly-express/\n",
        "\n",
        "The plotly.express module contains functions that can create entire figures at once, <mark><b>and is referred to as Plotly Express or PX.</b></mark> Plotly Express is a built-in part of the plotly library, and is the recommended starting point for creating most common figures. Every Plotly Express function uses graph objects internally and returns a plotly.graph_objects.Figure instance. Throughout the plotly documentation, you will find the Plotly Express way of building figures at the top of any applicable page, followed by a section on how to use graph objects to build similar figures. Any figure created in a single function call with Plotly Express could be created using graph objects alone, <mark><b>but with between 5 and 100 times more code.</b></mark>\n",
        "\n",
        "<mark><b>Plotly Express provides more than 30 functions for creating different types of figures.</b></mark> The API for these functions was carefully designed to be as consistent and easy to learn as possible, making it easy to switch from a scatter plot to a bar chart to a histogram to a sunburst chart throughout a data exploration session."
      ],
      "metadata": {
        "id": "noZ1zWHn_P77"
      }
    },
    {
      "cell_type": "code",
      "source": [
        "purple = ['#491D8B', '#6929C4', '#8A3FFC', '#A56EFF',\n",
        "          '#BE95FF', '#CA96EC', '#A163CF', '#29066B',\n",
        "          '#7D3AC1', '#AF4BCE', '#DB4CB2', '#EB548C',\n",
        "          '#EC96E0', '#A2128E', '#E8D9F3', '#641811']\n",
        "\n",
        "sns.palplot(purple, size = 2)"
      ],
      "metadata": {
        "execution": {
          "iopub.status.busy": "2022-08-08T10:44:24.858325Z",
          "iopub.execute_input": "2022-08-08T10:44:24.858784Z",
          "iopub.status.idle": "2022-08-08T10:44:25.012364Z",
          "shell.execute_reply.started": "2022-08-08T10:44:24.858748Z",
          "shell.execute_reply": "2022-08-08T10:44:25.011182Z"
        },
        "trusted": true,
        "id": "S8H0107m_P78"
      },
      "execution_count": null,
      "outputs": []
    },
    {
      "cell_type": "code",
      "source": [
        "fig = px.histogram(df, x = \"residual_sugar\", y = \"quality\", marginal = \"box\",\n",
        "                   color = None, text_auto = True, hover_data  = df.columns)\n",
        "fig.show()"
      ],
      "metadata": {
        "papermill": {
          "duration": 1.375548,
          "end_time": "2022-06-23T20:16:49.168903",
          "exception": false,
          "start_time": "2022-06-23T20:16:47.793355",
          "status": "completed"
        },
        "tags": [],
        "execution": {
          "iopub.status.busy": "2022-08-08T10:45:23.582865Z",
          "iopub.execute_input": "2022-08-08T10:45:23.583382Z",
          "iopub.status.idle": "2022-08-08T10:45:23.690956Z",
          "shell.execute_reply.started": "2022-08-08T10:45:23.58334Z",
          "shell.execute_reply": "2022-08-08T10:45:23.689869Z"
        },
        "trusted": true,
        "id": "dx9kAgDF_P79"
      },
      "execution_count": null,
      "outputs": []
    },
    {
      "cell_type": "code",
      "source": [
        "fig = px.density_heatmap(df, x = \"pH\", y = \"quality\", z = \"residual_sugar\",\n",
        "                         color_continuous_scale = \"magma\", text_auto = True)\n",
        "fig.show()"
      ],
      "metadata": {
        "papermill": {
          "duration": 0.169836,
          "end_time": "2022-06-23T20:16:49.410104",
          "exception": false,
          "start_time": "2022-06-23T20:16:49.240268",
          "status": "completed"
        },
        "tags": [],
        "execution": {
          "iopub.status.busy": "2022-08-08T10:46:02.701661Z",
          "iopub.execute_input": "2022-08-08T10:46:02.702147Z",
          "iopub.status.idle": "2022-08-08T10:46:02.772418Z",
          "shell.execute_reply.started": "2022-08-08T10:46:02.70211Z",
          "shell.execute_reply": "2022-08-08T10:46:02.771539Z"
        },
        "trusted": true,
        "id": "NxPemaW1_P79"
      },
      "execution_count": null,
      "outputs": []
    },
    {
      "cell_type": "code",
      "source": [
        "fig = px.density_heatmap(df, x = \"density\", y = \"quality\", z = \"chlorides\",\n",
        "                        color_continuous_scale = \"Viridis\", text_auto = True)\n",
        "fig.show()"
      ],
      "metadata": {
        "papermill": {
          "duration": 0.139729,
          "end_time": "2022-06-23T20:16:49.618891",
          "exception": false,
          "start_time": "2022-06-23T20:16:49.479162",
          "status": "completed"
        },
        "tags": [],
        "execution": {
          "iopub.status.busy": "2022-08-08T10:47:02.283155Z",
          "iopub.execute_input": "2022-08-08T10:47:02.283636Z",
          "iopub.status.idle": "2022-08-08T10:47:02.357101Z",
          "shell.execute_reply.started": "2022-08-08T10:47:02.283598Z",
          "shell.execute_reply": "2022-08-08T10:47:02.35578Z"
        },
        "trusted": true,
        "id": "YCBdsBIB_P7-"
      },
      "execution_count": null,
      "outputs": []
    },
    {
      "cell_type": "code",
      "source": [
        "fig = px.density_heatmap(df, x = \"chlorides\", y = \"quality\", text_auto = True,\n",
        "                         color_continuous_scale = \"sunsetdark\")\n",
        "fig.show()"
      ],
      "metadata": {
        "papermill": {
          "duration": 0.140795,
          "end_time": "2022-06-23T20:16:49.832785",
          "exception": false,
          "start_time": "2022-06-23T20:16:49.69199",
          "status": "completed"
        },
        "tags": [],
        "execution": {
          "iopub.status.busy": "2022-08-08T10:47:11.006701Z",
          "iopub.execute_input": "2022-08-08T10:47:11.007211Z",
          "iopub.status.idle": "2022-08-08T10:47:11.079222Z",
          "shell.execute_reply.started": "2022-08-08T10:47:11.007171Z",
          "shell.execute_reply": "2022-08-08T10:47:11.078359Z"
        },
        "trusted": true,
        "id": "D7MVL1rQ_P7_"
      },
      "execution_count": null,
      "outputs": []
    },
    {
      "cell_type": "code",
      "source": [
        "data = df\n",
        "fig = go.Figure(data = [go.Surface(z = data.values)])\n",
        "fig.update_layout(autosize = True, width = 600, height = 600)\n",
        "\n",
        "fig.show()"
      ],
      "metadata": {
        "papermill": {
          "duration": 0.092403,
          "end_time": "2022-06-23T20:16:49.997941",
          "exception": false,
          "start_time": "2022-06-23T20:16:49.905538",
          "status": "completed"
        },
        "tags": [],
        "execution": {
          "iopub.status.busy": "2022-08-08T10:47:39.682594Z",
          "iopub.execute_input": "2022-08-08T10:47:39.683097Z",
          "iopub.status.idle": "2022-08-08T10:47:39.702667Z",
          "shell.execute_reply.started": "2022-08-08T10:47:39.683059Z",
          "shell.execute_reply": "2022-08-08T10:47:39.701809Z"
        },
        "trusted": true,
        "id": "PeedoJeW_P7_"
      },
      "execution_count": null,
      "outputs": []
    },
    {
      "cell_type": "code",
      "source": [
        "data = df[[\"residual_sugar\", \"density\", \"sulphates\", \"chlorides\", \"quality\"]]\n",
        "\n",
        "fig = go.Figure(data = [go.Surface(z = data.values)])\n",
        "fig.update_layout(autosize = True, width = 600, height = 600)\n",
        "\n",
        "fig.show()"
      ],
      "metadata": {
        "papermill": {
          "duration": 0.090978,
          "end_time": "2022-06-23T20:16:50.163419",
          "exception": false,
          "start_time": "2022-06-23T20:16:50.072441",
          "status": "completed"
        },
        "tags": [],
        "execution": {
          "iopub.status.busy": "2022-08-07T18:41:08.793467Z",
          "iopub.execute_input": "2022-08-07T18:41:08.794081Z",
          "iopub.status.idle": "2022-08-07T18:41:08.806018Z",
          "shell.execute_reply.started": "2022-08-07T18:41:08.794056Z",
          "shell.execute_reply": "2022-08-07T18:41:08.805079Z"
        },
        "trusted": true,
        "id": "r3ByyTIG_P8A"
      },
      "execution_count": null,
      "outputs": []
    },
    {
      "cell_type": "code",
      "source": [
        "subject = df[\"quality\"]\n",
        "score = df[\"alcohol\"]\n",
        "\n",
        "data = [dict(x = subject, y = score, mode = \"markers\", type = \"scatter\",\n",
        "             transforms = [dict(type = \"groupby\", groups = subject)])]\n",
        "\n",
        "fig_dict = dict(data = data)\n",
        "pio.show(fig_dict, validate = False)"
      ],
      "metadata": {
        "papermill": {
          "duration": 0.083635,
          "end_time": "2022-06-23T20:16:50.32231",
          "exception": false,
          "start_time": "2022-06-23T20:16:50.238675",
          "status": "completed"
        },
        "tags": [],
        "execution": {
          "iopub.status.busy": "2022-08-08T10:51:16.458423Z",
          "iopub.execute_input": "2022-08-08T10:51:16.458928Z",
          "iopub.status.idle": "2022-08-08T10:51:16.467793Z",
          "shell.execute_reply.started": "2022-08-08T10:51:16.458887Z",
          "shell.execute_reply": "2022-08-08T10:51:16.46703Z"
        },
        "trusted": true,
        "id": "Bw9uOe0S_P8A"
      },
      "execution_count": null,
      "outputs": []
    },
    {
      "cell_type": "code",
      "source": [
        "subject = df[\"quality\"]\n",
        "score = df[\"pH\"]\n",
        "\n",
        "data = [dict(x = subject, y = score, mode = \"markers\", type = \"scatter\",\n",
        "             transforms = [dict(type = \"groupby\", groups = subject)])]\n",
        "\n",
        "fig_dict = dict(data = data)\n",
        "pio.show(fig_dict, validate = False)"
      ],
      "metadata": {
        "papermill": {
          "duration": 0.083507,
          "end_time": "2022-06-23T20:16:50.480876",
          "exception": false,
          "start_time": "2022-06-23T20:16:50.397369",
          "status": "completed"
        },
        "tags": [],
        "execution": {
          "iopub.status.busy": "2022-08-08T10:48:37.155267Z",
          "iopub.execute_input": "2022-08-08T10:48:37.155766Z",
          "iopub.status.idle": "2022-08-08T10:48:37.21785Z",
          "shell.execute_reply.started": "2022-08-08T10:48:37.155719Z",
          "shell.execute_reply": "2022-08-08T10:48:37.215458Z"
        },
        "collapsed": true,
        "jupyter": {
          "outputs_hidden": true
        },
        "trusted": true,
        "id": "kWAOlvZI_P8B"
      },
      "execution_count": null,
      "outputs": []
    },
    {
      "cell_type": "code",
      "source": [
        "subject = df[\"quality\"]\n",
        "score = df[\"chlorides\"]\n",
        "\n",
        "data = [dict(x = subject, y = score, mode = \"markers\", type = \"scatter\",\n",
        "             transforms = [dict(type = \"groupby\", groups = subject)])]\n",
        "\n",
        "fig_dict = dict(data = data)\n",
        "pio.show(fig_dict, validate = False)"
      ],
      "metadata": {
        "papermill": {
          "duration": 0.091454,
          "end_time": "2022-06-23T20:16:50.659395",
          "exception": false,
          "start_time": "2022-06-23T20:16:50.567941",
          "status": "completed"
        },
        "tags": [],
        "execution": {
          "iopub.status.busy": "2022-08-07T18:41:08.832944Z",
          "iopub.execute_input": "2022-08-07T18:41:08.833678Z",
          "iopub.status.idle": "2022-08-07T18:41:08.845643Z",
          "shell.execute_reply.started": "2022-08-07T18:41:08.833644Z",
          "shell.execute_reply": "2022-08-07T18:41:08.844784Z"
        },
        "trusted": true,
        "id": "MKF1F0D__P8B"
      },
      "execution_count": null,
      "outputs": []
    },
    {
      "cell_type": "code",
      "source": [
        "fig = px.ecdf(df, x = \"alcohol\", log_x = True, log_y = True, color = \"quality\")\n",
        "fig.show()"
      ],
      "metadata": {
        "papermill": {
          "duration": 0.266241,
          "end_time": "2022-06-23T20:16:51.006066",
          "exception": false,
          "start_time": "2022-06-23T20:16:50.739825",
          "status": "completed"
        },
        "tags": [],
        "execution": {
          "iopub.status.busy": "2022-08-07T18:41:08.847159Z",
          "iopub.execute_input": "2022-08-07T18:41:08.847837Z",
          "iopub.status.idle": "2022-08-07T18:41:08.979958Z",
          "shell.execute_reply.started": "2022-08-07T18:41:08.847813Z",
          "shell.execute_reply": "2022-08-07T18:41:08.978783Z"
        },
        "trusted": true,
        "id": "x5h-VqdJ_P8C"
      },
      "execution_count": null,
      "outputs": []
    },
    {
      "cell_type": "code",
      "source": [
        "fig = px.ecdf(df, x = \"citric_acid\", log_x = True, log_y = True, color = \"quality\")\n",
        "fig.show()"
      ],
      "metadata": {
        "papermill": {
          "duration": 0.187277,
          "end_time": "2022-06-23T20:16:51.273265",
          "exception": false,
          "start_time": "2022-06-23T20:16:51.085988",
          "status": "completed"
        },
        "tags": [],
        "execution": {
          "iopub.status.busy": "2022-08-07T18:41:08.981089Z",
          "iopub.execute_input": "2022-08-07T18:41:08.981399Z",
          "iopub.status.idle": "2022-08-07T18:41:09.061868Z",
          "shell.execute_reply.started": "2022-08-07T18:41:08.981375Z",
          "shell.execute_reply": "2022-08-07T18:41:09.060953Z"
        },
        "trusted": true,
        "id": "J3AjzdmS_P8C"
      },
      "execution_count": null,
      "outputs": []
    },
    {
      "cell_type": "code",
      "source": [
        "fig = px.ecdf(df, x = [\"pH\", \"sulphates\", \"alcohol\"],\n",
        "              marginal = \"histogram\", markers = False)\n",
        "fig.show()"
      ],
      "metadata": {
        "papermill": {
          "duration": 0.227476,
          "end_time": "2022-06-23T20:16:51.582537",
          "exception": false,
          "start_time": "2022-06-23T20:16:51.355061",
          "status": "completed"
        },
        "tags": [],
        "execution": {
          "iopub.status.busy": "2022-08-07T18:41:09.065998Z",
          "iopub.execute_input": "2022-08-07T18:41:09.066309Z",
          "iopub.status.idle": "2022-08-07T18:41:09.178237Z",
          "shell.execute_reply.started": "2022-08-07T18:41:09.066286Z",
          "shell.execute_reply": "2022-08-07T18:41:09.17764Z"
        },
        "trusted": true,
        "id": "vjlYqW-f_P8D"
      },
      "execution_count": null,
      "outputs": []
    },
    {
      "cell_type": "markdown",
      "source": [
        "<a id=\"5.8\"></a>\n",
        "\n",
        "#### <b>5.8 <span style='color:#80055D'>|</span>Heatmap and Correlation</b>"
      ],
      "metadata": {
        "papermill": {
          "duration": 0.07572,
          "end_time": "2022-06-23T20:16:51.738545",
          "exception": false,
          "start_time": "2022-06-23T20:16:51.662825",
          "status": "completed"
        },
        "tags": [],
        "id": "TukumqBa_P8E"
      }
    },
    {
      "cell_type": "markdown",
      "source": [
        "### Correlation and Causation 📍\n",
        "\n",
        "Reference: https://www.abs.gov.au/websitedbs/D3310114.nsf/home/statistical+language+-+correlation+and+causation\n",
        "\n",
        "Two or more variables considered to be related, in a statistical context, <mark><b>if their values change so that as the value of one variable increases or decreases so does the value of the other variable (although it may be in the opposite direction).</b></mark> For example, for the two variables \"hours worked\" and \"income earned\" there is a relationship between the two if the increase in hours worked is associated with an increase in income earned. If we consider the two variables \"price\" and \"purchasing power\", as the price of goods increases a person's ability to buy these goods decreases (assuming a constant income).\n",
        "\n",
        "<mark><b>Correlation is a statistical measure (expressed as a number) that describes the size and direction of a relationship between two or more variables.</b></mark> A correlation between variables, however, does not automatically mean that the change in one variable is the cause of the change in the values of the other variable.\n",
        "\n",
        "<mark><b>Causation indicates that one event is the result of the occurrence of the other event; i.e. there is a causal relationship between the two events. This is also referred to as cause and effect.</b></mark>\n",
        "\n",
        "Theoretically, the difference between the two types of relationships are easy to identify — an action or occurrence can cause another (e.g. smoking causes an increase in the risk of developing lung cancer), or it can correlate with another (e.g. smoking is correlated with alcoholism, but it does not cause alcoholism). <mark><b>In practice, however, it remains difficult to clearly establish cause and effect, compared with establishing correlation.</b></mark>"
      ],
      "metadata": {
        "id": "_aeVB4Qj_P8E"
      }
    },
    {
      "cell_type": "code",
      "source": [
        "plt.figure(figsize = [20, 10], facecolor = 'white')\n",
        "sns.heatmap(df.corr(), annot = True, linewidths = 2, cmap = \"magma\");"
      ],
      "metadata": {
        "papermill": {
          "duration": 1.058453,
          "end_time": "2022-06-23T20:16:52.8727",
          "exception": false,
          "start_time": "2022-06-23T20:16:51.814247",
          "status": "completed"
        },
        "tags": [],
        "execution": {
          "iopub.status.busy": "2022-08-08T10:59:47.852204Z",
          "iopub.execute_input": "2022-08-08T10:59:47.852676Z",
          "iopub.status.idle": "2022-08-08T10:59:48.796459Z",
          "shell.execute_reply.started": "2022-08-08T10:59:47.85264Z",
          "shell.execute_reply": "2022-08-08T10:59:48.795628Z"
        },
        "trusted": true,
        "id": "tNf5faux_P8F"
      },
      "execution_count": null,
      "outputs": []
    },
    {
      "cell_type": "markdown",
      "source": [
        "<div style=\"border-radius:10px;\n",
        "            border : black solid;\n",
        "            background-color: #E8D9F3;\n",
        "            font-size:110%;\n",
        "            text-align: left\">\n",
        "\n",
        "<h4 style='; border:0; border-radius: 10px; font-weight: bold; color:black'><center> Correlation</center></h4>\n",
        "\n",
        "\n",
        "\n",
        "**IMPORTANT NOTE!** There is <mark><b>'multicollinearity'</b></mark> problem\n",
        "\n",
        "Here we see that there is <mark><b>relatively high (0.67, positive) correlation</b></mark>\n",
        "between <mark><b>'free sulfur dioxide'</b></mark> and <mark><b>'total_sulfur_dioxide'</b></mark> variables.\n",
        "There is <mark><b>relatively high (-0.68, negative) correlation</b></mark> between\n",
        "<mark><b>\"pH\"</b></mark> and <mark><b>\"fixed_acidity\"</b></mark> variables. And there is about 0.5 correlation\n",
        "between some of other variables. That's why we must consider when build\n",
        "Machine Learning models."
      ],
      "metadata": {
        "id": "Pq6jDiS-_P8I"
      }
    },
    {
      "cell_type": "code",
      "source": [
        "list = (df[[\"alcohol\",\"density\"]].corr(), df[[\"fixed_acidity\",\"pH\"]].corr(),\n",
        "        df[[\"citric_acid\",\"pH\"]].corr(), df[[\"fixed_acidity\",\"density\"]].corr(),\n",
        "        df[[\"free_sulfur_dioxide\",\"total_sulfur_dioxide\"]].corr())\n",
        "for corr in list:\n",
        "    print(corr, \"\\n\\n\")"
      ],
      "metadata": {
        "papermill": {
          "duration": 0.102728,
          "end_time": "2022-06-23T20:16:53.058629",
          "exception": false,
          "start_time": "2022-06-23T20:16:52.955901",
          "status": "completed"
        },
        "tags": [],
        "execution": {
          "iopub.status.busy": "2022-08-08T11:01:57.8423Z",
          "iopub.execute_input": "2022-08-08T11:01:57.842752Z",
          "iopub.status.idle": "2022-08-08T11:01:57.867138Z",
          "shell.execute_reply.started": "2022-08-08T11:01:57.842717Z",
          "shell.execute_reply": "2022-08-08T11:01:57.866075Z"
        },
        "trusted": true,
        "id": "lUvx5Ldj_P8I"
      },
      "execution_count": null,
      "outputs": []
    },
    {
      "cell_type": "markdown",
      "source": [
        "In the code blocks below we will look at the <mark><b>Pearson correlation coefficient</b></mark> between some variables"
      ],
      "metadata": {
        "id": "xCP8-EWp_P8J"
      }
    },
    {
      "cell_type": "code",
      "source": [
        "print(\"Pearson correlation coefficient:\", st.pearsonr(df[\"alcohol\"],\n",
        "                                                      df[\"density\"]))"
      ],
      "metadata": {
        "papermill": {
          "duration": 0.087283,
          "end_time": "2022-06-23T20:16:53.223711",
          "exception": false,
          "start_time": "2022-06-23T20:16:53.136428",
          "status": "completed"
        },
        "tags": [],
        "execution": {
          "iopub.status.busy": "2022-08-08T11:02:13.070833Z",
          "iopub.execute_input": "2022-08-08T11:02:13.071316Z",
          "iopub.status.idle": "2022-08-08T11:02:13.078184Z",
          "shell.execute_reply.started": "2022-08-08T11:02:13.071261Z",
          "shell.execute_reply": "2022-08-08T11:02:13.077457Z"
        },
        "trusted": true,
        "id": "mNfIRzXW_P8M"
      },
      "execution_count": null,
      "outputs": []
    },
    {
      "cell_type": "code",
      "source": [
        "print(\"Pearson correlation coefficient:\", st.pearsonr(df[\"free_sulfur_dioxide\"],\n",
        "                                                      df[\"total_sulfur_dioxide\"]))"
      ],
      "metadata": {
        "papermill": {
          "duration": 0.087773,
          "end_time": "2022-06-23T20:16:53.391175",
          "exception": false,
          "start_time": "2022-06-23T20:16:53.303402",
          "status": "completed"
        },
        "tags": [],
        "execution": {
          "iopub.status.busy": "2022-08-07T18:41:09.964011Z",
          "iopub.execute_input": "2022-08-07T18:41:09.964641Z",
          "iopub.status.idle": "2022-08-07T18:41:09.974079Z",
          "shell.execute_reply.started": "2022-08-07T18:41:09.964615Z",
          "shell.execute_reply": "2022-08-07T18:41:09.973117Z"
        },
        "trusted": true,
        "id": "218CwXvK_P8N"
      },
      "execution_count": null,
      "outputs": []
    },
    {
      "cell_type": "code",
      "source": [
        "print(\"Pearson correlation coefficient:\", st.pearsonr(df[\"fixed_acidity\"],\n",
        "                                                      df[\"pH\"]))"
      ],
      "metadata": {
        "papermill": {
          "duration": 0.087753,
          "end_time": "2022-06-23T20:16:53.558291",
          "exception": false,
          "start_time": "2022-06-23T20:16:53.470538",
          "status": "completed"
        },
        "tags": [],
        "execution": {
          "iopub.status.busy": "2022-08-07T18:41:09.975101Z",
          "iopub.execute_input": "2022-08-07T18:41:09.975669Z",
          "iopub.status.idle": "2022-08-07T18:41:09.986007Z",
          "shell.execute_reply.started": "2022-08-07T18:41:09.975645Z",
          "shell.execute_reply": "2022-08-07T18:41:09.985103Z"
        },
        "trusted": true,
        "id": "aajBgjSi_P8N"
      },
      "execution_count": null,
      "outputs": []
    },
    {
      "cell_type": "code",
      "source": [
        "print(\"Pearson correlation coefficient:\", st.pearsonr(df[\"citric_acid\"],\n",
        "                                                      df[\"pH\"]))"
      ],
      "metadata": {
        "papermill": {
          "duration": 0.088818,
          "end_time": "2022-06-23T20:16:53.725285",
          "exception": false,
          "start_time": "2022-06-23T20:16:53.636467",
          "status": "completed"
        },
        "tags": [],
        "execution": {
          "iopub.status.busy": "2022-08-07T18:41:09.987102Z",
          "iopub.execute_input": "2022-08-07T18:41:09.987899Z",
          "iopub.status.idle": "2022-08-07T18:41:09.997772Z",
          "shell.execute_reply.started": "2022-08-07T18:41:09.987875Z",
          "shell.execute_reply": "2022-08-07T18:41:09.997051Z"
        },
        "trusted": true,
        "id": "0InEXb66_P8N"
      },
      "execution_count": null,
      "outputs": []
    },
    {
      "cell_type": "code",
      "source": [
        "print(\"Pearson correlation coefficient:\", st.pearsonr(df[\"fixed_acidity\"],\n",
        "                                                      df[\"density\"]))"
      ],
      "metadata": {
        "papermill": {
          "duration": 0.089026,
          "end_time": "2022-06-23T20:16:53.89275",
          "exception": false,
          "start_time": "2022-06-23T20:16:53.803724",
          "status": "completed"
        },
        "tags": [],
        "execution": {
          "iopub.status.busy": "2022-08-07T18:41:09.998817Z",
          "iopub.execute_input": "2022-08-07T18:41:09.999206Z",
          "iopub.status.idle": "2022-08-07T18:41:10.010326Z",
          "shell.execute_reply.started": "2022-08-07T18:41:09.999162Z",
          "shell.execute_reply": "2022-08-07T18:41:10.009782Z"
        },
        "trusted": true,
        "id": "3uaGTBwQ_P8O"
      },
      "execution_count": null,
      "outputs": []
    },
    {
      "cell_type": "markdown",
      "source": [
        "<a id=\"6\"></a>\n",
        "\n",
        "## <b>6<span style='color:#80055D'>|</span>DATASET PREPROCESSING 🛠</b>"
      ],
      "metadata": {
        "papermill": {
          "duration": 0.080092,
          "end_time": "2022-06-23T20:16:54.05198",
          "exception": false,
          "start_time": "2022-06-23T20:16:53.971888",
          "status": "completed"
        },
        "tags": [],
        "id": "TgNTqmf4_P8O"
      }
    },
    {
      "cell_type": "markdown",
      "source": [
        "<a id=\"6.1\"></a>\n",
        "\n",
        "#### <b>6.1 <span style='color:#80055D'>|</span>Look at Dataset</b>"
      ],
      "metadata": {
        "papermill": {
          "duration": 0.078668,
          "end_time": "2022-06-23T20:16:54.210375",
          "exception": false,
          "start_time": "2022-06-23T20:16:54.131707",
          "status": "completed"
        },
        "tags": [],
        "id": "aDPOriFt_P8P"
      }
    },
    {
      "cell_type": "code",
      "source": [
        "df.head().style.background_gradient(cmap = \"Purples_r\")"
      ],
      "metadata": {
        "papermill": {
          "duration": 0.115611,
          "end_time": "2022-06-23T20:16:54.406373",
          "exception": false,
          "start_time": "2022-06-23T20:16:54.290762",
          "status": "completed"
        },
        "tags": [],
        "execution": {
          "iopub.status.busy": "2022-08-08T11:03:53.842195Z",
          "iopub.execute_input": "2022-08-08T11:03:53.842658Z",
          "iopub.status.idle": "2022-08-08T11:03:53.878593Z",
          "shell.execute_reply.started": "2022-08-08T11:03:53.842621Z",
          "shell.execute_reply": "2022-08-08T11:03:53.877371Z"
        },
        "trusted": true,
        "id": "6Q0CWsmf_P8Q"
      },
      "execution_count": null,
      "outputs": []
    },
    {
      "cell_type": "markdown",
      "source": [
        "<a id=\"6.2\"></a>\n",
        "\n",
        "#### <b>6.2 <span style='color:#80055D'>|</span>Divide quality range into 2 parts</b>"
      ],
      "metadata": {
        "papermill": {
          "duration": 0.079453,
          "end_time": "2022-06-23T20:16:54.564456",
          "exception": false,
          "start_time": "2022-06-23T20:16:54.485003",
          "status": "completed"
        },
        "tags": [],
        "id": "4p0y4z6D_P8R"
      }
    },
    {
      "cell_type": "markdown",
      "source": [
        "<mark><b>\n",
        "## <mark><b>In this dataset quality range is between 3 and 8</b></mark>\n",
        "## <mark><b>We will divide quality range into two parts:</b></mark>\n",
        "   #### - High quality wine: <mark><b>6 - 8</b></mark>\n",
        "   #### - Low quality wine: <mark><b>3 - 5</b></mark>"
      ],
      "metadata": {
        "papermill": {
          "duration": 0.082128,
          "end_time": "2022-06-23T20:16:54.72633",
          "exception": false,
          "start_time": "2022-06-23T20:16:54.644202",
          "status": "completed"
        },
        "tags": [],
        "id": "ZTHfiAAg_P8R"
      }
    },
    {
      "cell_type": "code",
      "source": [
        "df[\"quality\"] = np.where(df[\"quality\"] > 5, 1, 0)\n",
        "df[\"quality\"]"
      ],
      "metadata": {
        "papermill": {
          "duration": 0.093657,
          "end_time": "2022-06-23T20:16:54.899625",
          "exception": false,
          "start_time": "2022-06-23T20:16:54.805968",
          "status": "completed"
        },
        "tags": [],
        "execution": {
          "iopub.status.busy": "2022-08-08T11:07:23.499974Z",
          "iopub.execute_input": "2022-08-08T11:07:23.500555Z",
          "iopub.status.idle": "2022-08-08T11:07:23.512363Z",
          "shell.execute_reply.started": "2022-08-08T11:07:23.50051Z",
          "shell.execute_reply": "2022-08-08T11:07:23.510853Z"
        },
        "trusted": true,
        "id": "j2enx2Gk_P8S"
      },
      "execution_count": null,
      "outputs": []
    },
    {
      "cell_type": "markdown",
      "source": [
        "<a id=\"6.3\"></a>\n",
        "\n",
        "#### <b>6.3 <span style='color:#80055D'>|</span>Look at Dataset (with changed 'quality' variable)</b>"
      ],
      "metadata": {
        "papermill": {
          "duration": 0.078812,
          "end_time": "2022-06-23T20:16:55.05741",
          "exception": false,
          "start_time": "2022-06-23T20:16:54.978598",
          "status": "completed"
        },
        "tags": [],
        "id": "G0_NRkjt_P8S"
      }
    },
    {
      "cell_type": "code",
      "source": [
        "df.head().style.background_gradient(cmap = \"Reds\")"
      ],
      "metadata": {
        "papermill": {
          "duration": 0.102305,
          "end_time": "2022-06-23T20:16:55.238802",
          "exception": false,
          "start_time": "2022-06-23T20:16:55.136497",
          "status": "completed"
        },
        "tags": [],
        "execution": {
          "iopub.status.busy": "2022-08-08T11:08:10.989616Z",
          "iopub.execute_input": "2022-08-08T11:08:10.990029Z",
          "iopub.status.idle": "2022-08-08T11:08:11.030185Z",
          "shell.execute_reply.started": "2022-08-08T11:08:10.989994Z",
          "shell.execute_reply": "2022-08-08T11:08:11.02935Z"
        },
        "trusted": true,
        "id": "Z9FC0db9_P8T"
      },
      "execution_count": null,
      "outputs": []
    },
    {
      "cell_type": "markdown",
      "source": [
        "<a id=\"6.4\"></a>\n",
        "\n",
        "#### <b>6.4 <span style='color:#80055D'>|</span>Select Dependent and Independent Variables</b>"
      ],
      "metadata": {
        "papermill": {
          "duration": 0.078966,
          "end_time": "2022-06-23T20:16:55.396541",
          "exception": false,
          "start_time": "2022-06-23T20:16:55.317575",
          "status": "completed"
        },
        "tags": [],
        "id": "g3YAMe5o_P8T"
      }
    },
    {
      "cell_type": "code",
      "source": [
        "# we select dependent variable (label)\n",
        "y = df[\"quality\"]\n",
        "\n",
        "# we select independent variable\n",
        "x = df.drop(\"quality\", axis = 1)"
      ],
      "metadata": {
        "papermill": {
          "duration": 0.088216,
          "end_time": "2022-06-23T20:16:55.563828",
          "exception": false,
          "start_time": "2022-06-23T20:16:55.475612",
          "status": "completed"
        },
        "tags": [],
        "execution": {
          "iopub.status.busy": "2022-08-08T11:08:18.928266Z",
          "iopub.execute_input": "2022-08-08T11:08:18.92891Z",
          "iopub.status.idle": "2022-08-08T11:08:18.935819Z",
          "shell.execute_reply.started": "2022-08-08T11:08:18.928867Z",
          "shell.execute_reply": "2022-08-08T11:08:18.934794Z"
        },
        "trusted": true,
        "id": "PWQDAzWR_P8U"
      },
      "execution_count": null,
      "outputs": []
    },
    {
      "cell_type": "markdown",
      "source": [
        "<a id=\"6.5\"></a>\n",
        "\n",
        "#### <b>6.5 <span style='color:#80055D'>|</span>Split Dataset into Train and Test Sets</b>"
      ],
      "metadata": {
        "papermill": {
          "duration": 0.080437,
          "end_time": "2022-06-23T20:16:55.723219",
          "exception": false,
          "start_time": "2022-06-23T20:16:55.642782",
          "status": "completed"
        },
        "tags": [],
        "id": "WStVgv_G_P8U"
      }
    },
    {
      "cell_type": "code",
      "source": [
        "x_train, x_test, y_train, y_test = train_test_split(x, y,\n",
        "                                                    test_size = 0.25,\n",
        "                                                    shuffle = True,\n",
        "                                                    random_state = 1)"
      ],
      "metadata": {
        "papermill": {
          "duration": 0.091816,
          "end_time": "2022-06-23T20:16:55.893995",
          "exception": false,
          "start_time": "2022-06-23T20:16:55.802179",
          "status": "completed"
        },
        "tags": [],
        "execution": {
          "iopub.status.busy": "2022-08-08T11:08:39.990165Z",
          "iopub.execute_input": "2022-08-08T11:08:39.990979Z",
          "iopub.status.idle": "2022-08-08T11:08:39.999037Z",
          "shell.execute_reply.started": "2022-08-08T11:08:39.990936Z",
          "shell.execute_reply": "2022-08-08T11:08:39.997952Z"
        },
        "trusted": true,
        "id": "Vf5GwvZM_P8U"
      },
      "execution_count": null,
      "outputs": []
    },
    {
      "cell_type": "markdown",
      "source": [
        "<a id=\"6.6\"></a>\n",
        "\n",
        "#### <b>6.6 <span style='color:#80055D'>|</span>Standardization</b>"
      ],
      "metadata": {
        "papermill": {
          "duration": 0.079147,
          "end_time": "2022-06-23T20:16:56.468758",
          "exception": false,
          "start_time": "2022-06-23T20:16:56.389611",
          "status": "completed"
        },
        "tags": [],
        "id": "2ova51ya_P8V"
      }
    },
    {
      "cell_type": "code",
      "source": [
        "'''\n",
        "#It will not be used here\n",
        "\n",
        "scaler = StandardScaler()\n",
        "scaler.fit(x_train)\n",
        "x_train = scaler.transform(x_train)\n",
        "x_test = scaler.transform(x_test)\n",
        "\n",
        "'''\n",
        "\n",
        "norm = MinMaxScaler(feature_range = (0, 1))\n",
        "norm.fit(x_train)\n",
        "x_train = norm.transform(x_train)\n",
        "x_test = norm.transform(x_test)"
      ],
      "metadata": {
        "papermill": {
          "duration": 0.095514,
          "end_time": "2022-06-23T20:16:56.803008",
          "exception": false,
          "start_time": "2022-06-23T20:16:56.707494",
          "status": "completed"
        },
        "tags": [],
        "execution": {
          "iopub.status.busy": "2022-08-07T18:41:10.093063Z",
          "iopub.execute_input": "2022-08-07T18:41:10.093339Z",
          "iopub.status.idle": "2022-08-07T18:41:10.106641Z",
          "shell.execute_reply.started": "2022-08-07T18:41:10.093316Z",
          "shell.execute_reply": "2022-08-07T18:41:10.105861Z"
        },
        "trusted": true,
        "id": "wZICXe1w_P8V"
      },
      "execution_count": null,
      "outputs": []
    },
    {
      "cell_type": "markdown",
      "source": [
        "<div style=\"border-radius:10px;\n",
        "            border : black solid;\n",
        "            background-color: #E8D9F3;\n",
        "            font-size:110%;\n",
        "            text-align: left\">\n",
        "\n",
        "<h4 style='; border:0; border-radius: 10px; font-weight: bold; color:black'><center> Standardization 🏷</center></h4>\n",
        "\n",
        "    \n",
        "<mark><b>Standardizing</b></mark> the features around the center and <mark><b>0 with a standard deviation of 1</b></mark> is important when we compare measurements that have different units. Variables that are measured at different scales do not contribute equally to the analysis and might end up creating a bais. For example, <mark><b>a variable that ranges between 0 and 1000 will outweigh a variable that ranges between 0 and 1.</b></mark> Using these variables without standardization will give the variable with the larger range weight of 1000 in the analysis. Transforming the data to comparable scales can prevent this problem. Typical data standardization procedures equalize the range and/or data variability.\n",
        "\n",
        "\n",
        "<mark><b>But we will not use 'StandardScaler', because our dataset is not normally distributed. We will use 'MinMaxScaler' for normalizing this dataset. It transforms features by scaling each feature to a given range. This estimator scales and translates each feature individually such that it is in the given range on the training set, e.g. between 0 and 1.</b></mark>"
      ],
      "metadata": {
        "id": "KhaWec_u_P8V"
      }
    },
    {
      "cell_type": "code",
      "source": [
        "print(x_train[0:5])\n",
        "print(\"\\n\")\n",
        "print(x_train.shape)\n",
        "print(\"_________________________________________________________________________\")\n",
        "print(x_test[0:5])\n",
        "print(\"\\n\")\n",
        "print(x_test.shape)"
      ],
      "metadata": {
        "papermill": {
          "duration": 0.0925,
          "end_time": "2022-06-23T20:16:56.975111",
          "exception": false,
          "start_time": "2022-06-23T20:16:56.882611",
          "status": "completed"
        },
        "tags": [],
        "execution": {
          "iopub.status.busy": "2022-08-08T11:10:59.59558Z",
          "iopub.execute_input": "2022-08-08T11:10:59.596079Z",
          "iopub.status.idle": "2022-08-08T11:10:59.619379Z",
          "shell.execute_reply.started": "2022-08-08T11:10:59.596038Z",
          "shell.execute_reply": "2022-08-08T11:10:59.618342Z"
        },
        "trusted": true,
        "id": "Ke3m_4FA_P8V"
      },
      "execution_count": null,
      "outputs": []
    },
    {
      "cell_type": "code",
      "source": [
        "print(y_train.head())\n",
        "print(y_train.shape)\n",
        "print(\"___________________________\")\n",
        "print(y_test.head())\n",
        "print(y_test.shape)"
      ],
      "metadata": {
        "papermill": {
          "duration": 0.091215,
          "end_time": "2022-06-23T20:16:57.15146",
          "exception": false,
          "start_time": "2022-06-23T20:16:57.060245",
          "status": "completed"
        },
        "tags": [],
        "execution": {
          "iopub.status.busy": "2022-08-08T11:11:09.119988Z",
          "iopub.execute_input": "2022-08-08T11:11:09.120457Z",
          "iopub.status.idle": "2022-08-08T11:11:09.128547Z",
          "shell.execute_reply.started": "2022-08-08T11:11:09.120424Z",
          "shell.execute_reply": "2022-08-08T11:11:09.127493Z"
        },
        "trusted": true,
        "id": "1stctcjg_P8W"
      },
      "execution_count": null,
      "outputs": []
    },
    {
      "cell_type": "markdown",
      "source": [
        "<a id=\"7\"></a>\n",
        "\n",
        "## <b>7<span style='color:#80055D'>|</span>BUILDING CLASSIFICATION MODELS ⚙️</b>"
      ],
      "metadata": {
        "papermill": {
          "duration": 0.078766,
          "end_time": "2022-06-23T20:16:57.309284",
          "exception": false,
          "start_time": "2022-06-23T20:16:57.230518",
          "status": "completed"
        },
        "tags": [],
        "id": "JAqAyv72_P8W"
      }
    },
    {
      "cell_type": "markdown",
      "source": [
        "# <h1 style=\"font-family: Sans-Serif; padding: 19px; font-size: 40px; color: #641811; text-align: center; line-height: 1.9;\"><b>Building Machine Learning Models</b><br><span style = \"color: #CD2DE0; font-size:25px\"></span></h1>\n",
        "<hr>"
      ],
      "metadata": {
        "papermill": {
          "duration": 0.079567,
          "end_time": "2022-06-23T20:16:57.467939",
          "exception": false,
          "start_time": "2022-06-23T20:16:57.388372",
          "status": "completed"
        },
        "tags": [],
        "id": "7tUqbYQW_P8X"
      }
    },
    {
      "cell_type": "markdown",
      "source": [
        "<a id=\"7.1\"></a>\n",
        "\n",
        "#### <b>7.1 <span style='color:#80055D'>|</span>K-Nearest Neighbors (KNN) Model</b>"
      ],
      "metadata": {
        "papermill": {
          "duration": 0.079379,
          "end_time": "2022-06-23T20:16:57.626758",
          "exception": false,
          "start_time": "2022-06-23T20:16:57.547379",
          "status": "completed"
        },
        "tags": [],
        "id": "RRtPkn_a_P8X"
      }
    },
    {
      "cell_type": "markdown",
      "source": [
        "### k-nearest neighbors algorithm\n",
        "\n",
        "Reference: https://en.wikipedia.org/wiki/K-nearest_neighbors_algorithm\n",
        "\n",
        "In statistics, <mark><b>the k-nearest neighbors algorithm (k-NN)</b></mark> is a non-parametric supervised learning method first developed by Evelyn Fix and Joseph Hodges in 1951, and later expanded by Thomas Cover. <mark><b>It is used for classification and regression.</b></mark> In both cases, the input consists of the k closest training examples in a data set. The output depends on whether k-NN is used for classification or regression.\n",
        "\n",
        "<mark><b>In k-NN classification, the output is a class membership.</b></mark> An object is classified by a plurality vote of its neighbors, with the object being assigned to the class most common among its k nearest neighbors (k is a positive integer, typically small). <mark><b>If k = 1, then the object is simply assigned to the class of that single nearest neighbor.</b></mark>\n",
        "\n",
        "<mark><b>In k-NN regression, the output is the property value for the object.</b></mark> This value is the average of the values of k nearest neighbors.\n",
        "\n",
        "k-NN is a type of classification where the function is only approximated locally and all computation is deferred until function evaluation. Since this algorithm relies on distance for classification, if the features represent different physical units or come in vastly different scales then normalizing the training data can improve its accuracy dramatically.\n",
        "\n",
        "<mark><b>Both for classification and regression,</b></mark> a useful technique can be to assign weights to the contributions of the neighbors, so that the nearer neighbors contribute more to the average than the more distant ones. For example, a common weighting scheme consists in giving each neighbor a weight of 1/d, where d is the distance to the neighbor.\n",
        "\n",
        "The neighbors are taken from a set of objects for which the class (for k-NN classification) or the object property value (for k-NN regression) is known. T<mark><b>his can be thought of as the training set for the algorithm, though no explicit training step is required.</b></mark>\n",
        "\n",
        "A peculiarity of the k-NN algorithm is that it is sensitive to the local structure of the data.\n",
        "\n",
        "![](http://res.cloudinary.com/dyd911kmh/image/upload/f_auto,q_auto:best/v1531424125/Knn_k1_z96jba.png)\n",
        "\n",
        "![](http://www.jeremyjordan.me/content/images/2017/06/Screen-Shot-2017-06-17-at-9.30.39-AM-1.png)"
      ],
      "metadata": {
        "id": "NLVBDu3H_P8Y"
      }
    },
    {
      "cell_type": "code",
      "source": [
        "knn = KNeighborsClassifier()"
      ],
      "metadata": {
        "papermill": {
          "duration": 0.08838,
          "end_time": "2022-06-23T20:16:57.794447",
          "exception": false,
          "start_time": "2022-06-23T20:16:57.706067",
          "status": "completed"
        },
        "tags": [],
        "execution": {
          "iopub.status.busy": "2022-08-08T11:20:56.379336Z",
          "iopub.execute_input": "2022-08-08T11:20:56.380243Z",
          "iopub.status.idle": "2022-08-08T11:20:56.384476Z",
          "shell.execute_reply.started": "2022-08-08T11:20:56.380201Z",
          "shell.execute_reply": "2022-08-08T11:20:56.383505Z"
        },
        "trusted": true,
        "id": "-b_k5O4C_P8Z"
      },
      "execution_count": null,
      "outputs": []
    },
    {
      "cell_type": "markdown",
      "source": [
        "<a id=\"7.2\"></a>\n",
        "\n",
        "#### <b>7.2 <span style='color:#80055D'>|</span>Hyperparameter Tuning for KNN Model 🔎</b>\n",
        "\n",
        "##### <mark>Searching the best hyperparametres with GridSearchCV method</mark>"
      ],
      "metadata": {
        "papermill": {
          "duration": 0.079091,
          "end_time": "2022-06-23T20:16:57.95258",
          "exception": false,
          "start_time": "2022-06-23T20:16:57.873489",
          "status": "completed"
        },
        "tags": [],
        "id": "d5jPQkk7_P8Z"
      }
    },
    {
      "cell_type": "code",
      "source": [
        "knn_params = {\"n_neighbors\": np.arange(2, 50),\n",
        "             \"weights\": [\"uniform\", \"distance\"],\n",
        "             \"leaf_size\": [25, 30, 25]}\n",
        "\n",
        "knn_cv_model = GridSearchCV(knn, knn_params, cv = 10)\n",
        "knn_cv_model.fit(x_train, y_train)"
      ],
      "metadata": {
        "papermill": {
          "duration": 24.066757,
          "end_time": "2022-06-23T20:17:22.098948",
          "exception": false,
          "start_time": "2022-06-23T20:16:58.032191",
          "status": "completed"
        },
        "tags": [],
        "execution": {
          "iopub.status.busy": "2022-08-08T11:19:15.342631Z",
          "iopub.execute_input": "2022-08-08T11:19:15.34313Z",
          "iopub.status.idle": "2022-08-08T11:19:43.761193Z",
          "shell.execute_reply.started": "2022-08-08T11:19:15.34309Z",
          "shell.execute_reply": "2022-08-08T11:19:43.760086Z"
        },
        "trusted": true,
        "id": "mZqJlcWK_P8Z"
      },
      "execution_count": null,
      "outputs": []
    },
    {
      "cell_type": "markdown",
      "source": [
        "<a id=\"7.3\"></a>\n",
        "\n",
        "#### <b>7.3 <span style='color:#80055D'>|</span>Get Best Parameters of KNN Model</b>"
      ],
      "metadata": {
        "papermill": {
          "duration": 0.080508,
          "end_time": "2022-06-23T20:17:22.26038",
          "exception": false,
          "start_time": "2022-06-23T20:17:22.179872",
          "status": "completed"
        },
        "tags": [],
        "id": "xtqhKwFa_P8a"
      }
    },
    {
      "cell_type": "code",
      "source": [
        "print(\"Best score for train set: \" + str(knn_cv_model.best_score_))\n",
        "\n",
        "print(\"____________________________________________\")\n",
        "\n",
        "print(\"best K value: \" + str(knn_cv_model.best_params_[\"n_neighbors\"]),\n",
        "     \"\\nbest weights: \" + knn_cv_model.best_params_[\"weights\"],\n",
        "     \"\\nbest leaf size: \" + str(knn_cv_model.best_params_[\"leaf_size\"]))"
      ],
      "metadata": {
        "papermill": {
          "duration": 0.09087,
          "end_time": "2022-06-23T20:17:22.431168",
          "exception": false,
          "start_time": "2022-06-23T20:17:22.340298",
          "status": "completed"
        },
        "tags": [],
        "execution": {
          "iopub.status.busy": "2022-08-08T11:20:08.052548Z",
          "iopub.execute_input": "2022-08-08T11:20:08.052993Z",
          "iopub.status.idle": "2022-08-08T11:20:08.058764Z",
          "shell.execute_reply.started": "2022-08-08T11:20:08.052961Z",
          "shell.execute_reply": "2022-08-08T11:20:08.057696Z"
        },
        "trusted": true,
        "id": "EuIzqYm5_P8a"
      },
      "execution_count": null,
      "outputs": []
    },
    {
      "cell_type": "markdown",
      "source": [
        "<a id=\"7.4\"></a>\n",
        "\n",
        "#### <b>7.4 <span style='color:#80055D'>|</span>Build KNN Model with Best Parameters</b>"
      ],
      "metadata": {
        "papermill": {
          "duration": 0.103353,
          "end_time": "2022-06-23T20:17:22.619865",
          "exception": false,
          "start_time": "2022-06-23T20:17:22.516512",
          "status": "completed"
        },
        "tags": [],
        "id": "S3AAOaKl_P8a"
      }
    },
    {
      "cell_type": "code",
      "source": [
        "knn_model = KNeighborsClassifier(n_neighbors = knn_cv_model.best_params_[\"n_neighbors\"],\n",
        "                                leaf_size = knn_cv_model.best_params_[\"leaf_size\"],\n",
        "                                weights = knn_cv_model.best_params_[\"weights\"])\n",
        "\n",
        "knn_model.fit(x_train, y_train)"
      ],
      "metadata": {
        "papermill": {
          "duration": 0.106633,
          "end_time": "2022-06-23T20:17:22.822009",
          "exception": false,
          "start_time": "2022-06-23T20:17:22.715376",
          "status": "completed"
        },
        "tags": [],
        "execution": {
          "iopub.status.busy": "2022-08-08T11:20:12.961381Z",
          "iopub.execute_input": "2022-08-08T11:20:12.961895Z",
          "iopub.status.idle": "2022-08-08T11:20:12.977566Z",
          "shell.execute_reply.started": "2022-08-08T11:20:12.961852Z",
          "shell.execute_reply": "2022-08-08T11:20:12.976119Z"
        },
        "trusted": true,
        "id": "Ys8U-uyp_P8b"
      },
      "execution_count": null,
      "outputs": []
    },
    {
      "cell_type": "markdown",
      "source": [
        "<a id=\"7.5\"></a>\n",
        "\n",
        "#### <b>7.5 <span style='color:#80055D'>|</span>Accuracy Score of KNN Model on Test set</b>"
      ],
      "metadata": {
        "papermill": {
          "duration": 0.082279,
          "end_time": "2022-06-23T20:17:22.99644",
          "exception": false,
          "start_time": "2022-06-23T20:17:22.914161",
          "status": "completed"
        },
        "tags": [],
        "id": "4MXCDr7z_P8c"
      }
    },
    {
      "cell_type": "code",
      "source": [
        "y_pred = knn_model.predict(x_test)\n",
        "accuracy_score(y_test, y_pred)"
      ],
      "metadata": {
        "papermill": {
          "duration": 0.105648,
          "end_time": "2022-06-23T20:17:23.184013",
          "exception": false,
          "start_time": "2022-06-23T20:17:23.078365",
          "status": "completed"
        },
        "tags": [],
        "execution": {
          "iopub.status.busy": "2022-08-08T11:20:19.751693Z",
          "iopub.execute_input": "2022-08-08T11:20:19.75212Z",
          "iopub.status.idle": "2022-08-08T11:20:19.775203Z",
          "shell.execute_reply.started": "2022-08-08T11:20:19.752085Z",
          "shell.execute_reply": "2022-08-08T11:20:19.774177Z"
        },
        "trusted": true,
        "id": "CLU_fy4x_P8c"
      },
      "execution_count": null,
      "outputs": []
    },
    {
      "cell_type": "markdown",
      "source": [
        "<a id=\"7.6\"></a>\n",
        "\n",
        "#### <b>7.6 <span style='color:#80055D'>|</span>Classification Report of KNN Model</b>"
      ],
      "metadata": {
        "papermill": {
          "duration": 0.151128,
          "end_time": "2022-06-23T20:17:23.422173",
          "exception": false,
          "start_time": "2022-06-23T20:17:23.271045",
          "status": "completed"
        },
        "tags": [],
        "id": "qjhjPRrW_P8d"
      }
    },
    {
      "cell_type": "code",
      "source": [
        "print(classification_report(y_test, y_pred))"
      ],
      "metadata": {
        "papermill": {
          "duration": 0.094274,
          "end_time": "2022-06-23T20:17:23.597373",
          "exception": false,
          "start_time": "2022-06-23T20:17:23.503099",
          "status": "completed"
        },
        "tags": [],
        "execution": {
          "iopub.status.busy": "2022-08-08T11:20:26.602024Z",
          "iopub.execute_input": "2022-08-08T11:20:26.603098Z",
          "iopub.status.idle": "2022-08-08T11:20:26.614607Z",
          "shell.execute_reply.started": "2022-08-08T11:20:26.603043Z",
          "shell.execute_reply": "2022-08-08T11:20:26.612883Z"
        },
        "trusted": true,
        "id": "6C6Z6NI5_P8d"
      },
      "execution_count": null,
      "outputs": []
    },
    {
      "cell_type": "markdown",
      "source": [
        "<a id=\"7.7\"></a>\n",
        "\n",
        "#### <b>7.7 <span style='color:#80055D'>|</span>Gradient Boosting Machines (GBM) Model</b>"
      ],
      "metadata": {
        "papermill": {
          "duration": 0.081147,
          "end_time": "2022-06-23T20:17:23.758503",
          "exception": false,
          "start_time": "2022-06-23T20:17:23.677356",
          "status": "completed"
        },
        "tags": [],
        "id": "G6LW_Qsp_P8d"
      }
    },
    {
      "cell_type": "markdown",
      "source": [
        "### Gradient Boosting\n",
        "\n",
        "Reference: https://en.wikipedia.org/wiki/Gradient_boosting\n",
        "\n",
        "Gradient boosting is a machine learning technique used in regression and classification tasks, among others. It gives a prediction model in the form of an ensemble of weak prediction models, which are typically decision trees. When a decision tree is the weak learner, the resulting algorithm is called gradient-boosted trees; it usually outperforms random forest. A gradient-boosted trees model is built in a stage-wise fashion as in other boosting methods, but it generalizes the other methods by allowing optimization of an arbitrary differentiable loss function.\n",
        "\n",
        "![](http://www.researchgate.net/profile/Zeren-Jiao/publication/347422282/figure/fig2/AS:975207309275139@1609518949740/Example-of-the-gradient-boosting-tree-algorithm-Reproduced-with-permission-from-ref-133.png)"
      ],
      "metadata": {
        "id": "cXLlSrmi_P8d"
      }
    },
    {
      "cell_type": "code",
      "source": [
        "gbm = GradientBoostingClassifier()"
      ],
      "metadata": {
        "papermill": {
          "duration": 0.088931,
          "end_time": "2022-06-23T20:17:23.928398",
          "exception": false,
          "start_time": "2022-06-23T20:17:23.839467",
          "status": "completed"
        },
        "tags": [],
        "execution": {
          "iopub.status.busy": "2022-08-07T18:41:16.612502Z",
          "iopub.status.idle": "2022-08-07T18:41:16.612966Z",
          "shell.execute_reply.started": "2022-08-07T18:41:16.61277Z",
          "shell.execute_reply": "2022-08-07T18:41:16.612791Z"
        },
        "trusted": true,
        "id": "0fGDF226_P8e"
      },
      "execution_count": null,
      "outputs": []
    },
    {
      "cell_type": "markdown",
      "source": [
        "<a id=\"7.8\"></a>\n",
        "\n",
        "#### <b>7.8 <span style='color:#80055D'>|</span>Hyperparameter Tuning for GBM Model 🔎</b>\n",
        "\n",
        "##### <mark>Searching the best hyperparametres with GridSearchCV method</mark>"
      ],
      "metadata": {
        "papermill": {
          "duration": 0.080746,
          "end_time": "2022-06-23T20:17:24.090067",
          "exception": false,
          "start_time": "2022-06-23T20:17:24.009321",
          "status": "completed"
        },
        "tags": [],
        "id": "0vEClsSv_P8e"
      }
    },
    {
      "cell_type": "code",
      "source": [
        "gbm_params = {\"learning_rate\": [0.005, 0.008, 0.1, 0.15],\n",
        "              \"n_estimators\": [80, 100, 150, 200],\n",
        "              \"max_depth\": [2, 3, 4],\n",
        "              \"min_samples_split\": [2, 3, 4]}\n",
        "\n",
        "gbm_cv_model = GridSearchCV(gbm, gbm_params, cv = 10, n_jobs = -1)\n",
        "gbm_cv_model.fit(x_train, y_train)"
      ],
      "metadata": {
        "papermill": {
          "duration": 190.178153,
          "end_time": "2022-06-23T20:20:34.349189",
          "exception": false,
          "start_time": "2022-06-23T20:17:24.171036",
          "status": "completed"
        },
        "tags": [],
        "execution": {
          "iopub.status.busy": "2022-08-07T18:41:16.614542Z",
          "iopub.status.idle": "2022-08-07T18:41:16.61498Z",
          "shell.execute_reply.started": "2022-08-07T18:41:16.614777Z",
          "shell.execute_reply": "2022-08-07T18:41:16.614798Z"
        },
        "trusted": true,
        "id": "zyL77-KN_P8f"
      },
      "execution_count": null,
      "outputs": []
    },
    {
      "cell_type": "markdown",
      "source": [
        "<a id=\"7.9\"></a>\n",
        "\n",
        "#### <b>7.9 <span style='color:#80055D'>|</span>Get Best Parameters of GBM Model</b>"
      ],
      "metadata": {
        "papermill": {
          "duration": 0.079776,
          "end_time": "2022-06-23T20:20:34.517214",
          "exception": false,
          "start_time": "2022-06-23T20:20:34.437438",
          "status": "completed"
        },
        "tags": [],
        "id": "fcxFbPYH_P8g"
      }
    },
    {
      "cell_type": "code",
      "source": [
        "print(\"Best score for train set: \" + str(gbm_cv_model.best_score_))\n",
        "\n",
        "print(\"__________________________________________________________\")\n",
        "\n",
        "print(\"best learning_rate value: \" + str(gbm_cv_model.best_params_[\"learning_rate\"]),\n",
        "     \"\\nbest n_estimators value: \" + str(gbm_cv_model.best_params_[\"n_estimators\"]),\n",
        "     \"\\nbest max_depth value: \" + str(gbm_cv_model.best_params_[\"max_depth\"]),\n",
        "     \"\\nbest min_samples_split value: \" + str(gbm_cv_model.best_params_[\"min_samples_split\"]))"
      ],
      "metadata": {
        "papermill": {
          "duration": 0.090558,
          "end_time": "2022-06-23T20:20:34.687373",
          "exception": false,
          "start_time": "2022-06-23T20:20:34.596815",
          "status": "completed"
        },
        "tags": [],
        "execution": {
          "iopub.status.busy": "2022-08-07T18:41:16.616638Z",
          "iopub.status.idle": "2022-08-07T18:41:16.617643Z",
          "shell.execute_reply.started": "2022-08-07T18:41:16.61724Z",
          "shell.execute_reply": "2022-08-07T18:41:16.617287Z"
        },
        "trusted": true,
        "id": "zQBWqUUr_P8g"
      },
      "execution_count": null,
      "outputs": []
    },
    {
      "cell_type": "markdown",
      "source": [
        "<a id=\"7.10\"></a>\n",
        "\n",
        "#### <b>7.10 <span style='color:#80055D'>|</span>Build GBM Model with Best Parameters</b>"
      ],
      "metadata": {
        "papermill": {
          "duration": 0.081155,
          "end_time": "2022-06-23T20:20:34.848371",
          "exception": false,
          "start_time": "2022-06-23T20:20:34.767216",
          "status": "completed"
        },
        "tags": [],
        "id": "aERWU-nR_P8h"
      }
    },
    {
      "cell_type": "code",
      "source": [
        "gbm = GradientBoostingClassifier(learning_rate = gbm_cv_model.best_params_[\"learning_rate\"],\n",
        "                                 max_depth = gbm_cv_model.best_params_[\"max_depth\"],\n",
        "                                 n_estimators = gbm_cv_model.best_params_[\"n_estimators\"],\n",
        "                                 min_samples_split = gbm_cv_model.best_params_[\"min_samples_split\"])\n",
        "gbm_model = gbm.fit(x_train, y_train)"
      ],
      "metadata": {
        "papermill": {
          "duration": 0.377795,
          "end_time": "2022-06-23T20:20:35.30832",
          "exception": false,
          "start_time": "2022-06-23T20:20:34.930525",
          "status": "completed"
        },
        "tags": [],
        "execution": {
          "iopub.status.busy": "2022-08-07T18:41:16.6197Z",
          "iopub.status.idle": "2022-08-07T18:41:16.620333Z",
          "shell.execute_reply.started": "2022-08-07T18:41:16.620064Z",
          "shell.execute_reply": "2022-08-07T18:41:16.620087Z"
        },
        "trusted": true,
        "id": "8Lp5QJGi_P8h"
      },
      "execution_count": null,
      "outputs": []
    },
    {
      "cell_type": "markdown",
      "source": [
        "<a id=\"7.11\"></a>\n",
        "\n",
        "#### <b>7.11 <span style='color:#80055D'>|</span>Accuracy Score of GBM Model on Test set</b>"
      ],
      "metadata": {
        "papermill": {
          "duration": 0.079394,
          "end_time": "2022-06-23T20:20:35.468311",
          "exception": false,
          "start_time": "2022-06-23T20:20:35.388917",
          "status": "completed"
        },
        "tags": [],
        "id": "8M-glKrj_P8h"
      }
    },
    {
      "cell_type": "code",
      "source": [
        "y_pred = gbm_model.predict(x_test)\n",
        "accuracy_score(y_test, y_pred)"
      ],
      "metadata": {
        "papermill": {
          "duration": 0.091738,
          "end_time": "2022-06-23T20:20:35.640032",
          "exception": false,
          "start_time": "2022-06-23T20:20:35.548294",
          "status": "completed"
        },
        "tags": [],
        "execution": {
          "iopub.status.busy": "2022-08-07T18:41:16.621705Z",
          "iopub.status.idle": "2022-08-07T18:41:16.622082Z",
          "shell.execute_reply.started": "2022-08-07T18:41:16.621912Z",
          "shell.execute_reply": "2022-08-07T18:41:16.621931Z"
        },
        "trusted": true,
        "id": "vNUuAcnK_P8i"
      },
      "execution_count": null,
      "outputs": []
    },
    {
      "cell_type": "markdown",
      "source": [
        "<a id=\"7.12\"></a>\n",
        "\n",
        "#### <b>7.12 <span style='color:#80055D'>|</span>Classification Report of GBM Model</b>"
      ],
      "metadata": {
        "papermill": {
          "duration": 0.079547,
          "end_time": "2022-06-23T20:20:35.799571",
          "exception": false,
          "start_time": "2022-06-23T20:20:35.720024",
          "status": "completed"
        },
        "tags": [],
        "id": "xxMUgVdU_P8i"
      }
    },
    {
      "cell_type": "code",
      "source": [
        "print(classification_report(y_test, y_pred))"
      ],
      "metadata": {
        "papermill": {
          "duration": 0.094142,
          "end_time": "2022-06-23T20:20:35.974319",
          "exception": false,
          "start_time": "2022-06-23T20:20:35.880177",
          "status": "completed"
        },
        "tags": [],
        "execution": {
          "iopub.status.busy": "2022-08-07T18:41:16.622938Z",
          "iopub.status.idle": "2022-08-07T18:41:16.623343Z",
          "shell.execute_reply.started": "2022-08-07T18:41:16.623122Z",
          "shell.execute_reply": "2022-08-07T18:41:16.62314Z"
        },
        "trusted": true,
        "id": "CeaTF42m_P8j"
      },
      "execution_count": null,
      "outputs": []
    },
    {
      "cell_type": "markdown",
      "source": [
        "<a id=\"7.13\"></a>\n",
        "\n",
        "#### <b>7.13 <span style='color:#80055D'>|</span>Light GBM Model</b>"
      ],
      "metadata": {
        "papermill": {
          "duration": 0.080285,
          "end_time": "2022-06-23T20:20:36.135405",
          "exception": false,
          "start_time": "2022-06-23T20:20:36.05512",
          "status": "completed"
        },
        "tags": [],
        "id": "DQmkT6pg_P8k"
      }
    },
    {
      "cell_type": "code",
      "source": [
        "lgbm = LGBMClassifier()"
      ],
      "metadata": {
        "papermill": {
          "duration": 0.087039,
          "end_time": "2022-06-23T20:20:36.302706",
          "exception": false,
          "start_time": "2022-06-23T20:20:36.215667",
          "status": "completed"
        },
        "tags": [],
        "execution": {
          "iopub.status.busy": "2022-08-07T18:41:16.624342Z",
          "iopub.status.idle": "2022-08-07T18:41:16.624701Z",
          "shell.execute_reply.started": "2022-08-07T18:41:16.624523Z",
          "shell.execute_reply": "2022-08-07T18:41:16.624541Z"
        },
        "trusted": true,
        "id": "voM0oli8_P8k"
      },
      "execution_count": null,
      "outputs": []
    },
    {
      "cell_type": "markdown",
      "source": [
        "<a id=\"7.14\"></a>\n",
        "\n",
        "#### <b>7.14 <span style='color:#80055D'>|</span>Hyperparameter Tuning for Light GBM Model 🔎</b>\n",
        "\n",
        "##### <mark>Searching the best hyperparametres with GridSearchCV method</mark>"
      ],
      "metadata": {
        "papermill": {
          "duration": 0.080165,
          "end_time": "2022-06-23T20:20:36.462905",
          "exception": false,
          "start_time": "2022-06-23T20:20:36.38274",
          "status": "completed"
        },
        "tags": [],
        "id": "peXvSduz_P8l"
      }
    },
    {
      "cell_type": "code",
      "source": [
        "lgbm_params = {\"n_estimators\": [80, 100, 120, 150, 200],\n",
        "              \"max_depth\": [-1, 3, 4],\n",
        "              \"learning_rate\": [0.05, 0.08, 0.1, 0.12, 0.15, 0.18],\n",
        "              \"min_child_samples\": [15, 20, 25, 30]}\n",
        "\n",
        "\n",
        "lgbm_cv_model = GridSearchCV(lgbm, lgbm_params, cv = 10, n_jobs = -1)\n",
        "lgbm_cv_model.fit(x_train, y_train)"
      ],
      "metadata": {
        "papermill": {
          "duration": 102.602306,
          "end_time": "2022-06-23T20:22:19.145515",
          "exception": false,
          "start_time": "2022-06-23T20:20:36.543209",
          "status": "completed"
        },
        "tags": [],
        "execution": {
          "iopub.status.busy": "2022-08-07T18:41:16.625877Z",
          "iopub.status.idle": "2022-08-07T18:41:16.626334Z",
          "shell.execute_reply.started": "2022-08-07T18:41:16.626075Z",
          "shell.execute_reply": "2022-08-07T18:41:16.626096Z"
        },
        "trusted": true,
        "id": "jgv6Cku6_P8l"
      },
      "execution_count": null,
      "outputs": []
    },
    {
      "cell_type": "markdown",
      "source": [
        "<a id=\"7.15\"></a>\n",
        "\n",
        "#### <b>7.15 <span style='color:#80055D'>|</span>Get Best Parameters of Light GBM Model</b>"
      ],
      "metadata": {
        "papermill": {
          "duration": 0.098869,
          "end_time": "2022-06-23T20:22:19.324177",
          "exception": false,
          "start_time": "2022-06-23T20:22:19.225308",
          "status": "completed"
        },
        "tags": [],
        "id": "t9qLxAAH_P8l"
      }
    },
    {
      "cell_type": "code",
      "source": [
        "# To get and show the best hyperparametres\n",
        "\n",
        "print(\"Best score for train set: \" + str(lgbm_cv_model.best_score_))\n",
        "\n",
        "print(\"____________________________________________\")\n",
        "\n",
        "print(\"best learning_rate value: \" + str(lgbm_cv_model.best_params_[\"learning_rate\"]),\n",
        "     \"\\nbest n_estimators value: \" + str(lgbm_cv_model.best_params_[\"n_estimators\"]),\n",
        "     \"\\nbest max_depth value: \" + str(lgbm_cv_model.best_params_[\"max_depth\"]),\n",
        "     \"\\nbest min_child_samples value: \" + str(lgbm_cv_model.best_params_[\"min_child_samples\"]))"
      ],
      "metadata": {
        "papermill": {
          "duration": 0.096987,
          "end_time": "2022-06-23T20:22:19.507668",
          "exception": false,
          "start_time": "2022-06-23T20:22:19.410681",
          "status": "completed"
        },
        "tags": [],
        "execution": {
          "iopub.status.busy": "2022-08-07T18:41:16.627532Z",
          "iopub.status.idle": "2022-08-07T18:41:16.627857Z",
          "shell.execute_reply.started": "2022-08-07T18:41:16.627696Z",
          "shell.execute_reply": "2022-08-07T18:41:16.62771Z"
        },
        "trusted": true,
        "id": "0S2ZRXzb_P8m"
      },
      "execution_count": null,
      "outputs": []
    },
    {
      "cell_type": "markdown",
      "source": [
        "<a id=\"7.16\"></a>\n",
        "\n",
        "#### <b>7.16 <span style='color:#80055D'>|</span>Build Light GBM Model with Best Parameters</b>"
      ],
      "metadata": {
        "papermill": {
          "duration": 0.100302,
          "end_time": "2022-06-23T20:22:19.696449",
          "exception": false,
          "start_time": "2022-06-23T20:22:19.596147",
          "status": "completed"
        },
        "tags": [],
        "id": "KmIbRxAi_P8m"
      }
    },
    {
      "cell_type": "code",
      "source": [
        "lgbm = LGBMClassifier(learning_rate = lgbm_cv_model.best_params_[\"learning_rate\"],\n",
        "                      max_depth = lgbm_cv_model.best_params_[\"max_depth\"],\n",
        "                      n_estimators = lgbm_cv_model.best_params_[\"n_estimators\"],\n",
        "                      min_child_samples = lgbm_cv_model.best_params_[\"min_child_samples\"])\n",
        "lgbm_model = lgbm.fit(x_train, y_train)"
      ],
      "metadata": {
        "papermill": {
          "duration": 0.485017,
          "end_time": "2022-06-23T20:22:20.270286",
          "exception": false,
          "start_time": "2022-06-23T20:22:19.785269",
          "status": "completed"
        },
        "tags": [],
        "execution": {
          "iopub.status.busy": "2022-08-07T18:41:16.629302Z",
          "iopub.status.idle": "2022-08-07T18:41:16.629713Z",
          "shell.execute_reply.started": "2022-08-07T18:41:16.629559Z",
          "shell.execute_reply": "2022-08-07T18:41:16.629574Z"
        },
        "trusted": true,
        "id": "5IgPEzgm_P8n"
      },
      "execution_count": null,
      "outputs": []
    },
    {
      "cell_type": "markdown",
      "source": [
        "<a id=\"7.17\"></a>\n",
        "\n",
        "#### <b>7.17 <span style='color:#80055D'>|</span>Accuracy Score of Light GBM Model on Test set</b>"
      ],
      "metadata": {
        "papermill": {
          "duration": 0.081082,
          "end_time": "2022-06-23T20:22:20.434185",
          "exception": false,
          "start_time": "2022-06-23T20:22:20.353103",
          "status": "completed"
        },
        "tags": [],
        "id": "5_C-7bci_P8o"
      }
    },
    {
      "cell_type": "code",
      "source": [
        "y_pred = lgbm_model.predict(x_test)\n",
        "accuracy_score(y_test, y_pred)"
      ],
      "metadata": {
        "papermill": {
          "duration": 0.104932,
          "end_time": "2022-06-23T20:22:20.620163",
          "exception": false,
          "start_time": "2022-06-23T20:22:20.515231",
          "status": "completed"
        },
        "tags": [],
        "execution": {
          "iopub.status.busy": "2022-08-07T18:41:16.631019Z",
          "iopub.status.idle": "2022-08-07T18:41:16.633598Z",
          "shell.execute_reply.started": "2022-08-07T18:41:16.633395Z",
          "shell.execute_reply": "2022-08-07T18:41:16.633417Z"
        },
        "trusted": true,
        "id": "wuszh50N_P8p"
      },
      "execution_count": null,
      "outputs": []
    },
    {
      "cell_type": "markdown",
      "source": [
        "<a id=\"7.18\"></a>\n",
        "\n",
        "#### <b>7.18 <span style='color:#80055D'>|</span>Classification Report of Light GBM Model</b>"
      ],
      "metadata": {
        "papermill": {
          "duration": 0.080863,
          "end_time": "2022-06-23T20:22:20.782052",
          "exception": false,
          "start_time": "2022-06-23T20:22:20.701189",
          "status": "completed"
        },
        "tags": [],
        "id": "P49qGbSk_P8q"
      }
    },
    {
      "cell_type": "code",
      "source": [
        "print(classification_report(y_test, y_pred))"
      ],
      "metadata": {
        "papermill": {
          "duration": 0.096113,
          "end_time": "2022-06-23T20:22:20.961661",
          "exception": false,
          "start_time": "2022-06-23T20:22:20.865548",
          "status": "completed"
        },
        "tags": [],
        "execution": {
          "iopub.status.busy": "2022-08-07T18:41:16.634552Z",
          "iopub.status.idle": "2022-08-07T18:41:16.634823Z",
          "shell.execute_reply.started": "2022-08-07T18:41:16.634695Z",
          "shell.execute_reply": "2022-08-07T18:41:16.634708Z"
        },
        "trusted": true,
        "id": "FoZ1r8a5_P8q"
      },
      "execution_count": null,
      "outputs": []
    },
    {
      "cell_type": "markdown",
      "source": [
        "<a id=\"7.19\"></a>\n",
        "\n",
        "#### <b>7.19 <span style='color:#80055D'>|</span>ROC AUC - Light GBM Model 📉</b>"
      ],
      "metadata": {
        "papermill": {
          "duration": 0.081938,
          "end_time": "2022-06-23T20:22:21.1256",
          "exception": false,
          "start_time": "2022-06-23T20:22:21.043662",
          "status": "completed"
        },
        "tags": [],
        "id": "59pyYooE_P8r"
      }
    },
    {
      "cell_type": "code",
      "source": [
        "lgbm_roc_auc = roc_auc_score(y_test, lgbm_model.predict(x_test))\n",
        "\n",
        "fpr, tpr, thresholds = roc_curve(y_test, lgbm_model.predict_proba(x_test)[:,1])\n",
        "plt.figure()\n",
        "plt.plot(fpr, tpr, label='AUC (area = %0.2f)' % lgbm_roc_auc)\n",
        "plt.plot([0, 1], [0, 1],'r--')\n",
        "plt.xlim([0.0, 1.0])\n",
        "plt.ylim([0.0, 1.05])\n",
        "plt.xlabel('False Positive Rate')\n",
        "plt.ylabel('True Positive Rate')\n",
        "plt.title('ROC')\n",
        "plt.show()"
      ],
      "metadata": {
        "papermill": {
          "duration": 0.330093,
          "end_time": "2022-06-23T20:22:21.537687",
          "exception": false,
          "start_time": "2022-06-23T20:22:21.207594",
          "status": "completed"
        },
        "tags": [],
        "execution": {
          "iopub.status.busy": "2022-08-07T18:41:16.635521Z",
          "iopub.status.idle": "2022-08-07T18:41:16.635772Z",
          "shell.execute_reply.started": "2022-08-07T18:41:16.635652Z",
          "shell.execute_reply": "2022-08-07T18:41:16.635664Z"
        },
        "trusted": true,
        "id": "5hPQJhQm_P8r"
      },
      "execution_count": null,
      "outputs": []
    },
    {
      "cell_type": "markdown",
      "source": [
        "# Thank you very much 🙂"
      ],
      "metadata": {
        "id": "lPaj66Pu_P8s"
      }
    }
  ]
}